{
 "cells": [
  {
   "cell_type": "markdown",
   "metadata": {},
   "source": [
    "<img src=\"http://imgur.com/1ZcRyrc.png\" style=\"float: left; margin: 20px; height: 55px\">\n",
    "\n",
    "# Project 1: Standardized Test Analysis"
   ]
  },
  {
   "cell_type": "markdown",
   "metadata": {},
   "source": [
    "--- \n",
    "# Part 1\n",
    "\n",
    "Part 1 requires knowledge of basic Python.\n",
    "\n",
    "---"
   ]
  },
  {
   "cell_type": "markdown",
   "metadata": {},
   "source": [
    "## Problem Statement"
   ]
  },
  {
   "cell_type": "markdown",
   "metadata": {},
   "source": [
    "Decide on your problem statement that will guide your analysis for this project. For guidelines, sample prompts, or inspiration, check out the README.\n",
    "\n",
    "**To-Do:** * Which Top 3 States make a significant improvement in SAT Participation Rate during 2017-2019? *"
   ]
  },
  {
   "cell_type": "markdown",
   "metadata": {},
   "source": [
    "### Contents:\n",
    "- [Background](#Background)\n",
    "- [Data Import & Cleaning](#Data-Import-and-Cleaning)\n",
    "- [Exploratory Data Analysis](#Exploratory-Data-Analysis)\n",
    "- [Data Visualization](#Visualize-the-Data)\n",
    "- [Conclusions and Recommendations](#Conclusions-and-Recommendations)"
   ]
  },
  {
   "cell_type": "markdown",
   "metadata": {},
   "source": [
    "## Background"
   ]
  },
  {
   "cell_type": "markdown",
   "metadata": {},
   "source": [
    "The SAT and ACT are standardized tests that many colleges and universities in the United States require for their admissions process. This score is used along with other materials such as grade point average (GPA) and essay responses to determine whether or not a potential student will be accepted to the university.\n",
    "\n",
    "The SAT has two sections of the test: Evidence-Based Reading and Writing and Math ([*source*](https://www.princetonreview.com/college/sat-sections)). The ACT has 4 sections: English, Mathematics, Reading, and Science, with an additional optional writing section ([*source*](https://www.act.org/content/act/en/products-and-services/the-act/scores/understanding-your-scores.html)). They have different score ranges, which you can read more about on their websites or additional outside sources (a quick Google search will help you understand the scores for each test):\n",
    "* [SAT](https://collegereadiness.collegeboard.org/sat)\n",
    "* [ACT](https://www.act.org/content/act/en.html)\n",
    "\n",
    "Standardized tests have long been a controversial topic for students, administrators, and legislators. Since the 1940's, an increasing number of colleges have been using scores from sudents' performances on tests like the SAT and the ACT as a measure for college readiness and aptitude ([*source*](https://www.minotdailynews.com/news/local-news/2017/04/a-brief-history-of-the-sat-and-act/)). Supporters of these tests argue that these scores can be used as an objective measure to determine college admittance. Opponents of these tests claim that these tests are not accurate measures of students potential or ability and serve as an inequitable barrier to entry. Lately, more and more schools are opting to drop the SAT/ACT requirement for their Fall 2021 applications ([*read more about this here*](https://www.cnn.com/2020/04/14/us/coronavirus-colleges-sat-act-test-trnd/index.html))."
   ]
  },
  {
   "cell_type": "markdown",
   "metadata": {},
   "source": [
    "**To-Do:** *Fill out this cell (or edit the above cell) with any other background or information that is necessary for your problem statement.*"
   ]
  },
  {
   "cell_type": "markdown",
   "metadata": {},
   "source": [
    "### Choose your Data\n",
    "\n",
    "There are 10 datasets included in the [`data`](./data/) folder for this project. You are required to pick **at least two** of these to complete your analysis. Feel free to use more than two if you would like, or add other relevant datasets you find online.\n",
    "\n",
    "* [`act_2017.csv`](./data/act_2017.csv): 2017 ACT Scores by State\n",
    "* [`act_2018.csv`](./data/act_2018.csv): 2018 ACT Scores by State\n",
    "* [`act_2019.csv`](./data/act_2019.csv): 2019 ACT Scores by State\n",
    "* [`act_2019_ca.csv`](./data/act_2019_ca.csv): 2019 ACT Scores in California by School\n",
    "* [`sat_2017.csv`](./data/sat_2017.csv): 2017 SAT Scores by State\n",
    "* [`sat_2018.csv`](./data/sat_2018.csv): 2018 SAT Scores by State\n",
    "* [`sat_2019.csv`](./data/sat_2019.csv): 2019 SAT Scores by State\n",
    "* [`sat_2019_by_intended_college_major.csv`](./data/sat_2019_by_intended_college_major.csv): 2019 SAT Scores by Intended College Major\n",
    "* [`sat_2019_ca.csv`](./data/sat_2019_ca.csv): 2019 SAT Scores in California by School\n",
    "* [`sat_act_by_college.csv`](./data/sat_act_by_college.csv): Ranges of Accepted ACT & SAT Student Scores by Colleges"
   ]
  },
  {
   "cell_type": "markdown",
   "metadata": {},
   "source": [
    "**To-Do:** *Fill out this cell with the datasets you will use for your analysis. Write a brief description of the contents for each dataset that you choose.*\n",
    "\n",
    "* [`act_2017.csv`](./data/act_2017.csv): 2017 ACT Scores by State\n",
    "* [`act_2018.csv`](./data/act_2018.csv): 2018 ACT Scores by State\n",
    "* [`act_2019.csv`](./data/act_2019.csv): 2019 ACT Scores by State\n",
    "\n",
    "* [`sat_2017.csv`](./data/sat_2017.csv): 2017 SAT Scores by State\n",
    "* [`sat_2018.csv`](./data/sat_2018.csv): 2018 SAT Scores by State\n",
    "* [`sat_2019.csv`](./data/sat_2019.csv): 2019 SAT Scores by State"
   ]
  },
  {
   "cell_type": "markdown",
   "metadata": {},
   "source": [
    "### Outside Research"
   ]
  },
  {
   "cell_type": "markdown",
   "metadata": {},
   "source": [
    "Based on your problem statement and your chosen datasets, spend some time doing outside research on state policies or additional information that might be relevant. Summarize your findings below. If you bring in any outside tables or charts, make sure you are explicit about having borrowed them. If you quote any text, make sure that it renders as being quoted. **Make sure that you cite your sources.**"
   ]
  },
  {
   "cell_type": "markdown",
   "metadata": {},
   "source": [
    "**To-Do:** *Fill out this cell with outside research or any additional background information that will support your analysis.*\n",
    "\n",
    "ref for the states change the policy\n",
    "\n",
    "* https://www.testive.com/colorado-sat-change-2017/\n",
    "* https://www.chicagotribune.com/news/ct-illinois-chooses-sat-met-20160211-story.html\n",
    "* https://www.wvgazettemail.com/news/education/wv-chooses-sat-as-new-high-school-standardized-test-for-juniors/article_b60d2618-4943-56f6-b180-4b4442172ef8.html"
   ]
  },
  {
   "cell_type": "markdown",
   "metadata": {},
   "source": [
    "### Coding Challenges\n",
    "\n",
    "1. Manually calculate mean:\n",
    "\n",
    "    Write a function that takes in values and returns the mean of the values. Create a list of numbers that you test on your function to check to make sure your function works!\n",
    "    \n",
    "    *Note*: Do not use any mean methods built-in to any Python libraries to do this! This should be done without importing any additional libraries."
   ]
  },
  {
   "cell_type": "code",
   "execution_count": 211,
   "metadata": {},
   "outputs": [
    {
     "name": "stdout",
     "output_type": "stream",
     "text": [
      "4.5\n"
     ]
    }
   ],
   "source": [
    "# Code:\n",
    "def average_fn(lst):\n",
    "    return sum(lst) /len(lst)\n",
    "test_lst = [x for x in range(10)]\n",
    "print(average_fn(test_lst))\n"
   ]
  },
  {
   "cell_type": "markdown",
   "metadata": {},
   "source": [
    "2. Manually calculate standard deviation:\n",
    "\n",
    "    The formula for standard deviation is below:\n",
    "\n",
    "    $$\\sigma = \\sqrt{\\frac{1}{n}\\sum_{i=1}^n(x_i - \\mu)^2}$$\n",
    "\n",
    "    Where $x_i$ represents each value in the dataset, $\\mu$ represents the mean of all values in the dataset and $n$ represents the number of values in the dataset.\n",
    "\n",
    "    Write a function that takes in values and returns the standard deviation of the values using the formula above. Hint: use the function you wrote above to calculate the mean! Use the list of numbers you created above to test on your function.\n",
    "    \n",
    "    *Note*: Do not use any standard deviation methods built-in to any Python libraries to do this! This should be done without importing any additional libraries."
   ]
  },
  {
   "cell_type": "code",
   "execution_count": 212,
   "metadata": {},
   "outputs": [
    {
     "data": {
      "text/plain": [
       "547.6274509803922"
      ]
     },
     "execution_count": 212,
     "metadata": {},
     "output_type": "execute_result"
    }
   ],
   "source": [
    "# Code:\n",
    "import numpy as np\n",
    "import pandas as pd\n",
    "import seaborn as sns\n",
    "import matplotlib as mpl\n",
    "import matplotlib.pyplot as plt\n",
    "\n",
    "\n",
    "sat_df17 = pd.read_csv('../data/sat_2017.csv' )\n",
    "#sat_df17['Math'].apply(average_fn)\n",
    "average_fn(sat_df17['Math'].tolist())\n"
   ]
  },
  {
   "cell_type": "code",
   "execution_count": 213,
   "metadata": {},
   "outputs": [
    {
     "data": {
      "text/html": [
       "<div>\n",
       "<style scoped>\n",
       "    .dataframe tbody tr th:only-of-type {\n",
       "        vertical-align: middle;\n",
       "    }\n",
       "\n",
       "    .dataframe tbody tr th {\n",
       "        vertical-align: top;\n",
       "    }\n",
       "\n",
       "    .dataframe thead th {\n",
       "        text-align: right;\n",
       "    }\n",
       "</style>\n",
       "<table border=\"1\" class=\"dataframe\">\n",
       "  <thead>\n",
       "    <tr style=\"text-align: right;\">\n",
       "      <th></th>\n",
       "      <th>State</th>\n",
       "      <th>Participation</th>\n",
       "      <th>Evidence-Based Reading and Writing</th>\n",
       "      <th>Math</th>\n",
       "      <th>Total</th>\n",
       "    </tr>\n",
       "  </thead>\n",
       "  <tbody>\n",
       "    <tr>\n",
       "      <th>0</th>\n",
       "      <td>Alabama</td>\n",
       "      <td>5%</td>\n",
       "      <td>593</td>\n",
       "      <td>572</td>\n",
       "      <td>1165</td>\n",
       "    </tr>\n",
       "    <tr>\n",
       "      <th>1</th>\n",
       "      <td>Alaska</td>\n",
       "      <td>38%</td>\n",
       "      <td>547</td>\n",
       "      <td>533</td>\n",
       "      <td>1080</td>\n",
       "    </tr>\n",
       "    <tr>\n",
       "      <th>2</th>\n",
       "      <td>Arizona</td>\n",
       "      <td>30%</td>\n",
       "      <td>563</td>\n",
       "      <td>553</td>\n",
       "      <td>1116</td>\n",
       "    </tr>\n",
       "    <tr>\n",
       "      <th>3</th>\n",
       "      <td>Arkansas</td>\n",
       "      <td>3%</td>\n",
       "      <td>614</td>\n",
       "      <td>594</td>\n",
       "      <td>1208</td>\n",
       "    </tr>\n",
       "    <tr>\n",
       "      <th>4</th>\n",
       "      <td>California</td>\n",
       "      <td>53%</td>\n",
       "      <td>531</td>\n",
       "      <td>524</td>\n",
       "      <td>1055</td>\n",
       "    </tr>\n",
       "  </tbody>\n",
       "</table>\n",
       "</div>"
      ],
      "text/plain": [
       "        State Participation  Evidence-Based Reading and Writing  Math  Total\n",
       "0     Alabama            5%                                 593   572   1165\n",
       "1      Alaska           38%                                 547   533   1080\n",
       "2     Arizona           30%                                 563   553   1116\n",
       "3    Arkansas            3%                                 614   594   1208\n",
       "4  California           53%                                 531   524   1055"
      ]
     },
     "execution_count": 213,
     "metadata": {},
     "output_type": "execute_result"
    }
   ],
   "source": [
    "sat_df17.head()"
   ]
  },
  {
   "cell_type": "markdown",
   "metadata": {},
   "source": [
    "3. Data cleaning function:\n",
    "    \n",
    "    Write a function that takes in a string that is a number and a percent symbol (ex. '50%', '30.5%', etc.) and converts this to a float that is the decimal approximation of the percent. For example, inputting '50%' in your function should return 0.5, '30.5%' should return 0.305, etc. Make sure to test your function to make sure it works!\n",
    "\n",
    "You will use these functions later on in the project!"
   ]
  },
  {
   "cell_type": "code",
   "execution_count": 214,
   "metadata": {},
   "outputs": [
    {
     "name": "stdout",
     "output_type": "stream",
     "text": [
      "        State  Participation  Evidence-Based Reading and Writing  Math  Total\n",
      "0     Alabama           0.05                                 593   572   1165\n",
      "1      Alaska           0.38                                 547   533   1080\n",
      "2     Arizona           0.30                                 563   553   1116\n",
      "3    Arkansas           0.03                                 614   594   1208\n",
      "4  California           0.53                                 531   524   1055\n"
     ]
    }
   ],
   "source": [
    "# Code:\n",
    "\n",
    "def chg_float(tmp_str):\n",
    "\tnum_float = int(tmp_str[:-1])/100\n",
    "\treturn num_float\n",
    "\n",
    "sat_df17['Participation'] = sat_df17['Participation'].map(lambda x: chg_float(x))\n",
    "print(sat_df17.head())\n"
   ]
  },
  {
   "cell_type": "markdown",
   "metadata": {},
   "source": [
    "--- \n",
    "# Part 2\n",
    "\n",
    "Part 2 requires knowledge of Pandas, EDA, data cleaning, and data visualization.\n",
    "\n",
    "---"
   ]
  },
  {
   "cell_type": "markdown",
   "metadata": {},
   "source": [
    "*All libraries used should be added here*\n"
   ]
  },
  {
   "cell_type": "code",
   "execution_count": 215,
   "metadata": {},
   "outputs": [],
   "source": [
    "# Imports:\n",
    "\n",
    "import numpy as np\n",
    "import pandas as pd\n",
    "import seaborn as sns\n",
    "import matplotlib as mpl\n",
    "import matplotlib.pyplot as plt"
   ]
  },
  {
   "cell_type": "markdown",
   "metadata": {},
   "source": [
    "## Data Import and Cleaning"
   ]
  },
  {
   "cell_type": "markdown",
   "metadata": {},
   "source": [
    "### Data Import & Cleaning\n",
    "\n",
    "Import the datasets that you selected for this project and go through the following steps at a minimum. You are welcome to do further cleaning as you feel necessary:\n",
    "1. Display the data: print the first 5 rows of each dataframe to your Jupyter notebook.\n",
    "2. Check for missing values.\n",
    "3. Check for any obvious issues with the observations (keep in mind the minimum & maximum possible values for each test/subtest).\n",
    "4. Fix any errors you identified in steps 2-3.\n",
    "5. Display the data types of each feature.\n",
    "6. Fix any incorrect data types found in step 5.\n",
    "    - Fix any individual values preventing other columns from being the appropriate type.\n",
    "    - If your dataset has a column of percents (ex. '50%', '30.5%', etc.), use the function you wrote in Part 1 (coding challenges, number 3) to convert this to floats! *Hint*: use `.map()` or `.apply()`.\n",
    "7. Rename Columns.\n",
    "    - Column names should be all lowercase.\n",
    "    - Column names should not contain spaces (underscores will suffice--this allows for using the `df.column_name` method to access columns in addition to `df['column_name']`).\n",
    "    - Column names should be unique and informative.\n",
    "8. Drop unnecessary rows (if needed).\n",
    "9. Merge dataframes that can be merged.\n",
    "10. Perform any additional cleaning that you feel is necessary.\n",
    "11. Save your cleaned and merged dataframes as csv files."
   ]
  },
  {
   "cell_type": "markdown",
   "metadata": {},
   "source": [
    "Import the data source"
   ]
  },
  {
   "cell_type": "code",
   "execution_count": 216,
   "metadata": {},
   "outputs": [],
   "source": [
    "# Code:\n",
    "#about SAT data source\n",
    "sat_df17 = pd.read_csv('../data/sat_2017.csv' )\n",
    "sat_df18 = pd.read_csv('../data/sat_2018.csv' )\n",
    "sat_df19 = pd.read_csv('../data/sat_2019.csv' )\n",
    "\n",
    "act_df17 = pd.read_csv('../data/act_2017.csv' )\n",
    "act_df18 = pd.read_csv('../data/act_2018.csv' )\n",
    "act_df19 = pd.read_csv('../data/act_2019.csv' )"
   ]
  },
  {
   "cell_type": "code",
   "execution_count": 217,
   "metadata": {},
   "outputs": [
    {
     "name": "stdout",
     "output_type": "stream",
     "text": [
      "sat_df17\n",
      "         State Participation  Evidence-Based Reading and Writing  Math  Total\n",
      "0     Alabama            5%                                 593   572   1165\n",
      "1      Alaska           38%                                 547   533   1080\n",
      "2     Arizona           30%                                 563   553   1116\n",
      "3    Arkansas            3%                                 614   594   1208\n",
      "4  California           53%                                 531   524   1055\n",
      "\n",
      "sat_df18\n",
      "         State Participation  Evidence-Based Reading and Writing  Math  Total\n",
      "0     Alabama            6%                                 595   571   1166\n",
      "1      Alaska           43%                                 562   544   1106\n",
      "2     Arizona           29%                                 577   572   1149\n",
      "3    Arkansas            5%                                 592   576   1169\n",
      "4  California           60%                                 540   536   1076\n",
      "\n",
      "sat_df19\n",
      "         State Participation Rate  EBRW  Math  Total\n",
      "0     Alabama                 7%   583   560   1143\n",
      "1      Alaska                41%   556   541   1097\n",
      "2     Arizona                31%   569   565   1134\n",
      "3    Arkansas                 6%   582   559   1141\n",
      "4  California                63%   534   531   1065\n",
      "\n",
      "act_df17\n",
      "       State Participation  English  Math  Reading  Science Composite\n",
      "0  National           60%     20.3  20.7     21.4     21.0      21.0\n",
      "1   Alabama          100%     18.9  18.4     19.7     19.4      19.2\n",
      "2    Alaska           65%     18.7  19.8     20.4     19.9      19.8\n",
      "3   Arizona           62%     18.6  19.8     20.1     19.8      19.7\n",
      "4  Arkansas          100%     18.9  19.0     19.7     19.5      19.4\n",
      "\n",
      "act_df18\n",
      "         State Participation  Composite\n",
      "0     Alabama          100%       19.1\n",
      "1      Alaska           33%       20.8\n",
      "2     Arizona           66%       19.2\n",
      "3    Arkansas          100%       19.4\n",
      "4  California           27%       22.7\n",
      "\n",
      "act_df19\n",
      "         State Participation  Composite\n",
      "0     Alabama          100%       18.9\n",
      "1      Alaska           38%       20.1\n",
      "2     Arizona           73%       19.0\n",
      "3    Arkansas          100%       19.3\n",
      "4  California           23%       22.6\n"
     ]
    }
   ],
   "source": [
    "# 1.Display the data: print the first 5 rows of each dataframe to your Jupyter notebook.\n",
    "print(\"sat_df17\\n\",sat_df17.head(5))\n",
    "print(\"\\nsat_df18\\n\",sat_df18.head(5))\n",
    "print(\"\\nsat_df19\\n\",sat_df19.head(5))\n",
    "print(\"\\nact_df17\\n\",act_df17.head(5))\n",
    "print(\"\\nact_df18\\n\",act_df18.head(5))\n",
    "print(\"\\nact_df19\\n\",act_df19.head(5))"
   ]
  },
  {
   "cell_type": "code",
   "execution_count": 218,
   "metadata": {},
   "outputs": [
    {
     "name": "stdout",
     "output_type": "stream",
     "text": [
      "State                                 0\n",
      "Participation                         0\n",
      "Evidence-Based Reading and Writing    0\n",
      "Math                                  0\n",
      "Total                                 0\n",
      "dtype: int64\n",
      "State                                 0\n",
      "Participation                         0\n",
      "Evidence-Based Reading and Writing    0\n",
      "Math                                  0\n",
      "Total                                 0\n",
      "dtype: int64\n",
      "State                 0\n",
      "Participation Rate    0\n",
      "EBRW                  0\n",
      "Math                  0\n",
      "Total                 0\n",
      "dtype: int64\n",
      "State            0\n",
      "Participation    0\n",
      "English          0\n",
      "Math             0\n",
      "Reading          0\n",
      "Science          0\n",
      "Composite        0\n",
      "dtype: int64\n",
      "State            0\n",
      "Participation    0\n",
      "Composite        0\n",
      "dtype: int64\n",
      "State            0\n",
      "Participation    0\n",
      "Composite        0\n",
      "dtype: int64\n"
     ]
    }
   ],
   "source": [
    "#2.Check for missing values.\n",
    "print(sat_df17.isnull().sum())\n",
    "print(sat_df18.isnull().sum())\n",
    "print(sat_df19.isnull().sum())\n",
    "print(act_df17.isnull().sum())\n",
    "print(act_df18.isnull().sum())\n",
    "print(act_df19.isnull().sum())"
   ]
  },
  {
   "cell_type": "code",
   "execution_count": 219,
   "metadata": {},
   "outputs": [
    {
     "name": "stdout",
     "output_type": "stream",
     "text": [
      "       Evidence-Based Reading and Writing        Math        Total\n",
      "count                           51.000000   51.000000    51.000000\n",
      "mean                           569.117647  547.627451  1126.098039\n",
      "std                             45.666901   84.909119    92.494812\n",
      "min                            482.000000   52.000000   950.000000\n",
      "25%                            533.500000  522.000000  1055.500000\n",
      "50%                            559.000000  548.000000  1107.000000\n",
      "75%                            613.000000  599.000000  1212.000000\n",
      "max                            644.000000  651.000000  1295.000000\n",
      "       Evidence-Based Reading and Writing        Math        Total\n",
      "count                           51.000000   51.000000    51.000000\n",
      "mean                           563.686275  556.235294  1120.019608\n",
      "std                             47.502627   47.772623    94.155083\n",
      "min                            480.000000  480.000000   977.000000\n",
      "25%                            534.500000  522.500000  1057.500000\n",
      "50%                            552.000000  544.000000  1098.000000\n",
      "75%                            610.500000  593.500000  1204.000000\n",
      "max                            643.000000  655.000000  1298.000000\n",
      "             EBRW        Math        Total\n",
      "count   53.000000   53.000000    53.000000\n",
      "mean   558.000000  548.471698  1106.528302\n",
      "std     47.554422   53.785044   100.994784\n",
      "min    483.000000  445.000000   935.000000\n",
      "25%    518.000000  506.000000  1024.000000\n",
      "50%    550.000000  545.000000  1097.000000\n",
      "75%    610.000000  596.000000  1200.000000\n",
      "max    636.000000  648.000000  1284.000000\n",
      "         English       Math    Reading    Science\n",
      "count  52.000000  52.000000  52.000000  52.000000\n",
      "mean   20.919231  21.173077  22.001923  21.040385\n",
      "std     2.332132   1.963602   2.048672   3.151113\n",
      "min    16.300000  18.000000  18.100000   2.300000\n",
      "25%    19.000000  19.400000  20.475000  19.900000\n",
      "50%    20.550000  20.900000  21.700000  21.150000\n",
      "75%    23.300000  23.100000  24.125000  22.525000\n",
      "max    25.500000  25.300000  26.000000  24.900000\n",
      "       Composite\n",
      "count  52.000000\n",
      "mean   21.544231\n",
      "std     2.119417\n",
      "min    17.700000\n",
      "25%    19.975000\n",
      "50%    21.300000\n",
      "75%    23.725000\n",
      "max    25.600000\n",
      "       Composite\n",
      "count  52.000000\n",
      "mean   21.450000\n",
      "std     2.175487\n",
      "min    17.900000\n",
      "25%    19.800000\n",
      "50%    20.950000\n",
      "75%    23.650000\n",
      "max    25.500000\n"
     ]
    }
   ],
   "source": [
    "#3.Check for any obvious issues with the observations (keep in mind the minimum & maximum possible values for each test/subtest).\n",
    "print(sat_df17.describe())\n",
    "print(sat_df18.describe())\n",
    "print(sat_df19.describe())\n",
    "\n",
    "print(act_df17.describe())\n",
    "print(act_df18.describe())\n",
    "print(act_df19.describe())"
   ]
  },
  {
   "cell_type": "code",
   "execution_count": 220,
   "metadata": {},
   "outputs": [
    {
     "name": "stdout",
     "output_type": "stream",
     "text": [
      "State                                 object\n",
      "Participation                         object\n",
      "Evidence-Based Reading and Writing     int64\n",
      "Math                                   int64\n",
      "Total                                  int64\n",
      "dtype: object\n",
      "State                                 object\n",
      "Participation                         object\n",
      "Evidence-Based Reading and Writing     int64\n",
      "Math                                   int64\n",
      "Total                                  int64\n",
      "dtype: object\n",
      "State                 object\n",
      "Participation Rate    object\n",
      "EBRW                   int64\n",
      "Math                   int64\n",
      "Total                  int64\n",
      "dtype: object\n",
      "State             object\n",
      "Participation     object\n",
      "English          float64\n",
      "Math             float64\n",
      "Reading          float64\n",
      "Science          float64\n",
      "Composite         object\n",
      "dtype: object\n",
      "State             object\n",
      "Participation     object\n",
      "Composite        float64\n",
      "dtype: object\n",
      "State             object\n",
      "Participation     object\n",
      "Composite        float64\n",
      "dtype: object\n"
     ]
    }
   ],
   "source": [
    "#5.Display the data types of each feature.\n",
    "print(sat_df17.dtypes)\n",
    "print(sat_df18.dtypes)\n",
    "print(sat_df19.dtypes)\n",
    "\n",
    "print(act_df17.dtypes)\n",
    "print(act_df18.dtypes)\n",
    "print(act_df19.dtypes)"
   ]
  },
  {
   "cell_type": "code",
   "execution_count": 221,
   "metadata": {
    "scrolled": true
   },
   "outputs": [
    {
     "name": "stdout",
     "output_type": "stream",
     "text": [
      "        State  Participation  Evidence-Based Reading and Writing  Math  Total\n",
      "0     Alabama           0.05                                 593   572   1165\n",
      "1      Alaska           0.38                                 547   533   1080\n",
      "2     Arizona           0.30                                 563   553   1116\n",
      "3    Arkansas           0.03                                 614   594   1208\n",
      "4  California           0.53                                 531   524   1055\n",
      "        State  Participation  Evidence-Based Reading and Writing  Math  Total\n",
      "0     Alabama           0.06                                 595   571   1166\n",
      "1      Alaska           0.43                                 562   544   1106\n",
      "2     Arizona           0.29                                 577   572   1149\n",
      "3    Arkansas           0.05                                 592   576   1169\n",
      "4  California           0.60                                 540   536   1076\n",
      "        State  Participation Rate  EBRW  Math  Total\n",
      "0     Alabama                0.07   583   560   1143\n",
      "1      Alaska                0.41   556   541   1097\n",
      "2     Arizona                0.31   569   565   1134\n",
      "3    Arkansas                0.06   582   559   1141\n",
      "4  California                0.63   534   531   1065\n",
      "      State  Participation  English  Math  Reading  Science Composite\n",
      "0  National           0.60     20.3  20.7     21.4     21.0      21.0\n",
      "1   Alabama           1.00     18.9  18.4     19.7     19.4      19.2\n",
      "2    Alaska           0.65     18.7  19.8     20.4     19.9      19.8\n",
      "3   Arizona           0.62     18.6  19.8     20.1     19.8      19.7\n",
      "4  Arkansas           1.00     18.9  19.0     19.7     19.5      19.4\n",
      "        State  Participation  Composite\n",
      "0     Alabama           1.00       19.1\n",
      "1      Alaska           0.33       20.8\n",
      "2     Arizona           0.66       19.2\n",
      "3    Arkansas           1.00       19.4\n",
      "4  California           0.27       22.7\n",
      "        State  Participation  Composite\n",
      "0     Alabama           1.00       18.9\n",
      "1      Alaska           0.38       20.1\n",
      "2     Arizona           0.73       19.0\n",
      "3    Arkansas           1.00       19.3\n",
      "4  California           0.23       22.6\n"
     ]
    }
   ],
   "source": [
    "# 6.Fix any incorrect data types found in step 5\n",
    "def chg_float(tmp_str):\n",
    "    if tmp_str not in ('—',''):\n",
    "        num_float = int(tmp_str[:-1])/100\n",
    "    else:\n",
    "        num_float = 0\n",
    "    return num_float\n",
    "\n",
    "sat_df17['Participation'] = sat_df17['Participation'].map(lambda x: chg_float(x))\n",
    "sat_df18['Participation'] = sat_df18['Participation'].map(lambda x: chg_float(x))\n",
    "sat_df19['Participation Rate'] = sat_df19['Participation Rate'].map(lambda x: chg_float(x))\n",
    "print(sat_df17.head())\n",
    "print(sat_df18.head())\n",
    "print(sat_df19.head())\n",
    "\n",
    "sat_df17['State'] = sat_df17['State'].str.replace('District of Columbia', 'Columbia')\n",
    "\n",
    "\n",
    "act_df17['Participation'] = act_df17['Participation'].map(lambda x: chg_float(x))\n",
    "act_df18['Participation'] = act_df18['Participation'].map(lambda x: chg_float(x))\n",
    "act_df19['Participation'] = act_df19['Participation'].map(lambda x: chg_float(x))\n",
    "print(act_df17.head())\n",
    "print(act_df18.head())\n",
    "print(act_df19.head())"
   ]
  },
  {
   "cell_type": "code",
   "execution_count": 222,
   "metadata": {},
   "outputs": [],
   "source": [
    "#7.Drop unnecessary rows (if needed).\n",
    "sat_df17 = sat_df17[['State','Participation','Total']]\n",
    "sat_df18 = sat_df18[['State','Participation','Total']]\n",
    "sat_df19 = sat_df19[['State','Participation Rate','Total']]\n",
    "\n",
    "final_col = ['State', 'Participation','Composite']\n",
    "act_df17 = act_df17[final_col]\n",
    "act_df18 = act_df18[final_col]\n",
    "act_df19 = act_df19[final_col]"
   ]
  },
  {
   "cell_type": "code",
   "execution_count": 223,
   "metadata": {},
   "outputs": [
    {
     "name": "stdout",
     "output_type": "stream",
     "text": [
      "     State  Participation_Rate_SAT_2017  Score_2017\n",
      "0  Alabama                         0.05        1165\n",
      "1   Alaska                         0.38        1080\n",
      "     State  Participation_Rate_SAT_2018  Score_2018\n",
      "0  Alabama                         0.06        1166\n",
      "1   Alaska                         0.43        1106\n",
      "     State  Participation_Rate_SAT_2019  Score_2019\n",
      "0  Alabama                         0.07        1143\n",
      "1   Alaska                         0.41        1097\n",
      "      State  Participation_Rate_ACT_2017 Score_2017\n",
      "0  National                          0.6       21.0\n",
      "1   Alabama                          1.0       19.2\n",
      "     State  Participation_Rate_ACT_2018  Score_2018\n",
      "0  Alabama                         1.00        19.1\n",
      "1   Alaska                         0.33        20.8\n",
      "     State  Participation_Rate_ACT_2019  Score_2019\n",
      "0  Alabama                         1.00        18.9\n",
      "1   Alaska                         0.38        20.1\n"
     ]
    }
   ],
   "source": [
    "#8. Rename Columns.\n",
    "#Column names should not contain spaces (underscores will suffice--this allows for using the df.column_name method to access columns in addition to df['column_name']).\n",
    "#Column names should be unique and informative.\n",
    "\n",
    "sat_df19.rename(columns={'Participation Rate':'Participation_Rate_SAT_2019'}, inplace=True)\n",
    "sat_df18.rename(columns={'Participation':'Participation_Rate_SAT_2018'}, inplace=True)\n",
    "sat_df17.rename(columns={'Participation':'Participation_Rate_SAT_2017'}, inplace=True)\n",
    "\n",
    "sat_df19.rename(columns={'Total':'Score_2019'}, inplace=True)\n",
    "sat_df18.rename(columns={'Total':'Score_2018'}, inplace=True)\n",
    "sat_df17.rename(columns={'Total':'Score_2017'}, inplace=True)\n",
    "print(sat_df17.head(2))\n",
    "print(sat_df18.head(2))\n",
    "print(sat_df19.head(2))\n",
    "\n",
    "act_df19.rename(columns={'Participation':'Participation_Rate_ACT_2019'}, inplace=True)\n",
    "act_df18.rename(columns={'Participation':'Participation_Rate_ACT_2018'}, inplace=True)\n",
    "act_df17.rename(columns={'Participation':'Participation_Rate_ACT_2017'}, inplace=True)\n",
    "\n",
    "act_df19.rename(columns={'Composite':'Score_2019'}, inplace=True)\n",
    "act_df18.rename(columns={'Composite':'Score_2018'}, inplace=True)\n",
    "act_df17.rename(columns={'Composite':'Score_2017'}, inplace=True)\n",
    "print(act_df17.head(2))\n",
    "print(act_df18.head(2))\n",
    "print(act_df19.head(2))"
   ]
  },
  {
   "cell_type": "code",
   "execution_count": 224,
   "metadata": {},
   "outputs": [
    {
     "data": {
      "text/html": [
       "<div>\n",
       "<style scoped>\n",
       "    .dataframe tbody tr th:only-of-type {\n",
       "        vertical-align: middle;\n",
       "    }\n",
       "\n",
       "    .dataframe tbody tr th {\n",
       "        vertical-align: top;\n",
       "    }\n",
       "\n",
       "    .dataframe thead th {\n",
       "        text-align: right;\n",
       "    }\n",
       "</style>\n",
       "<table border=\"1\" class=\"dataframe\">\n",
       "  <thead>\n",
       "    <tr style=\"text-align: right;\">\n",
       "      <th></th>\n",
       "      <th>State</th>\n",
       "      <th>Participation_Rate_ACT_2017</th>\n",
       "      <th>Score_2017</th>\n",
       "      <th>Participation_Rate_ACT_2018</th>\n",
       "      <th>Score_2018</th>\n",
       "      <th>Participation_Rate_ACT_2019</th>\n",
       "      <th>Score_2019</th>\n",
       "    </tr>\n",
       "  </thead>\n",
       "  <tbody>\n",
       "    <tr>\n",
       "      <th>0</th>\n",
       "      <td>Alabama</td>\n",
       "      <td>1.00</td>\n",
       "      <td>19.2</td>\n",
       "      <td>1.00</td>\n",
       "      <td>19.1</td>\n",
       "      <td>1.00</td>\n",
       "      <td>18.9</td>\n",
       "    </tr>\n",
       "    <tr>\n",
       "      <th>1</th>\n",
       "      <td>Alaska</td>\n",
       "      <td>0.65</td>\n",
       "      <td>19.8</td>\n",
       "      <td>0.33</td>\n",
       "      <td>20.8</td>\n",
       "      <td>0.38</td>\n",
       "      <td>20.1</td>\n",
       "    </tr>\n",
       "    <tr>\n",
       "      <th>2</th>\n",
       "      <td>Arizona</td>\n",
       "      <td>0.62</td>\n",
       "      <td>19.7</td>\n",
       "      <td>0.66</td>\n",
       "      <td>19.2</td>\n",
       "      <td>0.73</td>\n",
       "      <td>19.0</td>\n",
       "    </tr>\n",
       "    <tr>\n",
       "      <th>3</th>\n",
       "      <td>Arkansas</td>\n",
       "      <td>1.00</td>\n",
       "      <td>19.4</td>\n",
       "      <td>1.00</td>\n",
       "      <td>19.4</td>\n",
       "      <td>1.00</td>\n",
       "      <td>19.3</td>\n",
       "    </tr>\n",
       "    <tr>\n",
       "      <th>4</th>\n",
       "      <td>California</td>\n",
       "      <td>0.31</td>\n",
       "      <td>22.8</td>\n",
       "      <td>0.27</td>\n",
       "      <td>22.7</td>\n",
       "      <td>0.23</td>\n",
       "      <td>22.6</td>\n",
       "    </tr>\n",
       "  </tbody>\n",
       "</table>\n",
       "</div>"
      ],
      "text/plain": [
       "        State  Participation_Rate_ACT_2017 Score_2017  \\\n",
       "0     Alabama                         1.00       19.2   \n",
       "1      Alaska                         0.65       19.8   \n",
       "2     Arizona                         0.62       19.7   \n",
       "3    Arkansas                         1.00       19.4   \n",
       "4  California                         0.31       22.8   \n",
       "\n",
       "   Participation_Rate_ACT_2018  Score_2018  Participation_Rate_ACT_2019  \\\n",
       "0                         1.00        19.1                         1.00   \n",
       "1                         0.33        20.8                         0.38   \n",
       "2                         0.66        19.2                         0.73   \n",
       "3                         1.00        19.4                         1.00   \n",
       "4                         0.27        22.7                         0.23   \n",
       "\n",
       "   Score_2019  \n",
       "0        18.9  \n",
       "1        20.1  \n",
       "2        19.0  \n",
       "3        19.3  \n",
       "4        22.6  "
      ]
     },
     "execution_count": 224,
     "metadata": {},
     "output_type": "execute_result"
    }
   ],
   "source": [
    "#9.Merge dataframes that can be merged.\n",
    "ACT_2017_2018_DIFF = pd.merge(act_df17, act_df18, how='inner',on = ['State'])\n",
    "ACT_2017_2018_2019_DIFF = pd.merge(ACT_2017_2018_DIFF, act_df19, how='inner',on = ['State'])\n",
    "ACT_2017_2018_2019_DIFF.head()\n",
    "\n",
    "\n"
   ]
  },
  {
   "cell_type": "code",
   "execution_count": 225,
   "metadata": {},
   "outputs": [
    {
     "data": {
      "text/html": [
       "<div>\n",
       "<style scoped>\n",
       "    .dataframe tbody tr th:only-of-type {\n",
       "        vertical-align: middle;\n",
       "    }\n",
       "\n",
       "    .dataframe tbody tr th {\n",
       "        vertical-align: top;\n",
       "    }\n",
       "\n",
       "    .dataframe thead th {\n",
       "        text-align: right;\n",
       "    }\n",
       "</style>\n",
       "<table border=\"1\" class=\"dataframe\">\n",
       "  <thead>\n",
       "    <tr style=\"text-align: right;\">\n",
       "      <th></th>\n",
       "      <th>State</th>\n",
       "      <th>Participation_Rate_SAT_2017</th>\n",
       "      <th>Score_2017</th>\n",
       "      <th>Participation_Rate_SAT_2018</th>\n",
       "      <th>Score_2018</th>\n",
       "      <th>Participation_Rate_SAT_2019</th>\n",
       "      <th>Score_2019</th>\n",
       "    </tr>\n",
       "  </thead>\n",
       "  <tbody>\n",
       "    <tr>\n",
       "      <th>0</th>\n",
       "      <td>Alabama</td>\n",
       "      <td>0.05</td>\n",
       "      <td>1165</td>\n",
       "      <td>0.06</td>\n",
       "      <td>1166</td>\n",
       "      <td>0.07</td>\n",
       "      <td>1143</td>\n",
       "    </tr>\n",
       "    <tr>\n",
       "      <th>1</th>\n",
       "      <td>Alaska</td>\n",
       "      <td>0.38</td>\n",
       "      <td>1080</td>\n",
       "      <td>0.43</td>\n",
       "      <td>1106</td>\n",
       "      <td>0.41</td>\n",
       "      <td>1097</td>\n",
       "    </tr>\n",
       "    <tr>\n",
       "      <th>2</th>\n",
       "      <td>Arizona</td>\n",
       "      <td>0.30</td>\n",
       "      <td>1116</td>\n",
       "      <td>0.29</td>\n",
       "      <td>1149</td>\n",
       "      <td>0.31</td>\n",
       "      <td>1134</td>\n",
       "    </tr>\n",
       "    <tr>\n",
       "      <th>3</th>\n",
       "      <td>Arkansas</td>\n",
       "      <td>0.03</td>\n",
       "      <td>1208</td>\n",
       "      <td>0.05</td>\n",
       "      <td>1169</td>\n",
       "      <td>0.06</td>\n",
       "      <td>1141</td>\n",
       "    </tr>\n",
       "    <tr>\n",
       "      <th>4</th>\n",
       "      <td>California</td>\n",
       "      <td>0.53</td>\n",
       "      <td>1055</td>\n",
       "      <td>0.60</td>\n",
       "      <td>1076</td>\n",
       "      <td>0.63</td>\n",
       "      <td>1065</td>\n",
       "    </tr>\n",
       "  </tbody>\n",
       "</table>\n",
       "</div>"
      ],
      "text/plain": [
       "        State  Participation_Rate_SAT_2017  Score_2017  \\\n",
       "0     Alabama                         0.05        1165   \n",
       "1      Alaska                         0.38        1080   \n",
       "2     Arizona                         0.30        1116   \n",
       "3    Arkansas                         0.03        1208   \n",
       "4  California                         0.53        1055   \n",
       "\n",
       "   Participation_Rate_SAT_2018  Score_2018  Participation_Rate_SAT_2019  \\\n",
       "0                         0.06        1166                         0.07   \n",
       "1                         0.43        1106                         0.41   \n",
       "2                         0.29        1149                         0.31   \n",
       "3                         0.05        1169                         0.06   \n",
       "4                         0.60        1076                         0.63   \n",
       "\n",
       "   Score_2019  \n",
       "0        1143  \n",
       "1        1097  \n",
       "2        1134  \n",
       "3        1141  \n",
       "4        1065  "
      ]
     },
     "execution_count": 225,
     "metadata": {},
     "output_type": "execute_result"
    }
   ],
   "source": [
    "SAT_2017_2018_DIFF = pd.merge(sat_df17, sat_df18, how='inner',on = ['State'])\n",
    "SAT_2017_2018_2019_DIFF = pd.merge(SAT_2017_2018_DIFF, sat_df19, how='inner',on = ['State'])\n",
    "SAT_2017_2018_2019_DIFF.head()"
   ]
  },
  {
   "cell_type": "code",
   "execution_count": 226,
   "metadata": {},
   "outputs": [
    {
     "data": {
      "text/html": [
       "<div>\n",
       "<style scoped>\n",
       "    .dataframe tbody tr th:only-of-type {\n",
       "        vertical-align: middle;\n",
       "    }\n",
       "\n",
       "    .dataframe tbody tr th {\n",
       "        vertical-align: top;\n",
       "    }\n",
       "\n",
       "    .dataframe thead th {\n",
       "        text-align: right;\n",
       "    }\n",
       "</style>\n",
       "<table border=\"1\" class=\"dataframe\">\n",
       "  <thead>\n",
       "    <tr style=\"text-align: right;\">\n",
       "      <th></th>\n",
       "      <th>State</th>\n",
       "      <th>Abbreviation</th>\n",
       "    </tr>\n",
       "  </thead>\n",
       "  <tbody>\n",
       "    <tr>\n",
       "      <th>0</th>\n",
       "      <td>Alabama</td>\n",
       "      <td>AL</td>\n",
       "    </tr>\n",
       "    <tr>\n",
       "      <th>1</th>\n",
       "      <td>Alaska</td>\n",
       "      <td>AK</td>\n",
       "    </tr>\n",
       "  </tbody>\n",
       "</table>\n",
       "</div>"
      ],
      "text/plain": [
       "     State Abbreviation\n",
       "0  Alabama           AL\n",
       "1   Alaska           AK"
      ]
     },
     "execution_count": 226,
     "metadata": {},
     "output_type": "execute_result"
    }
   ],
   "source": [
    "map_state = pd.read_csv('../data/MAP_STATE_2CHAR.csv')\n",
    "map_state.head(2)"
   ]
  },
  {
   "cell_type": "code",
   "execution_count": 227,
   "metadata": {},
   "outputs": [
    {
     "data": {
      "text/html": [
       "<div>\n",
       "<style scoped>\n",
       "    .dataframe tbody tr th:only-of-type {\n",
       "        vertical-align: middle;\n",
       "    }\n",
       "\n",
       "    .dataframe tbody tr th {\n",
       "        vertical-align: top;\n",
       "    }\n",
       "\n",
       "    .dataframe thead th {\n",
       "        text-align: right;\n",
       "    }\n",
       "</style>\n",
       "<table border=\"1\" class=\"dataframe\">\n",
       "  <thead>\n",
       "    <tr style=\"text-align: right;\">\n",
       "      <th></th>\n",
       "      <th>State</th>\n",
       "      <th>Participation_Rate_SAT_2017</th>\n",
       "      <th>Score_2017</th>\n",
       "      <th>Participation_Rate_SAT_2018</th>\n",
       "      <th>Score_2018</th>\n",
       "      <th>Participation_Rate_SAT_2019</th>\n",
       "      <th>Score_2019</th>\n",
       "      <th>Abbreviation</th>\n",
       "    </tr>\n",
       "  </thead>\n",
       "  <tbody>\n",
       "    <tr>\n",
       "      <th>0</th>\n",
       "      <td>Alabama</td>\n",
       "      <td>0.05</td>\n",
       "      <td>1165</td>\n",
       "      <td>0.06</td>\n",
       "      <td>1166</td>\n",
       "      <td>0.07</td>\n",
       "      <td>1143</td>\n",
       "      <td>AL</td>\n",
       "    </tr>\n",
       "    <tr>\n",
       "      <th>1</th>\n",
       "      <td>Alaska</td>\n",
       "      <td>0.38</td>\n",
       "      <td>1080</td>\n",
       "      <td>0.43</td>\n",
       "      <td>1106</td>\n",
       "      <td>0.41</td>\n",
       "      <td>1097</td>\n",
       "      <td>AK</td>\n",
       "    </tr>\n",
       "    <tr>\n",
       "      <th>2</th>\n",
       "      <td>Arizona</td>\n",
       "      <td>0.30</td>\n",
       "      <td>1116</td>\n",
       "      <td>0.29</td>\n",
       "      <td>1149</td>\n",
       "      <td>0.31</td>\n",
       "      <td>1134</td>\n",
       "      <td>AZ</td>\n",
       "    </tr>\n",
       "  </tbody>\n",
       "</table>\n",
       "</div>"
      ],
      "text/plain": [
       "     State  Participation_Rate_SAT_2017  Score_2017  \\\n",
       "0  Alabama                         0.05        1165   \n",
       "1   Alaska                         0.38        1080   \n",
       "2  Arizona                         0.30        1116   \n",
       "\n",
       "   Participation_Rate_SAT_2018  Score_2018  Participation_Rate_SAT_2019  \\\n",
       "0                         0.06        1166                         0.07   \n",
       "1                         0.43        1106                         0.41   \n",
       "2                         0.29        1149                         0.31   \n",
       "\n",
       "   Score_2019 Abbreviation  \n",
       "0        1143           AL  \n",
       "1        1097           AK  \n",
       "2        1134           AZ  "
      ]
     },
     "execution_count": 227,
     "metadata": {},
     "output_type": "execute_result"
    }
   ],
   "source": [
    "SAT_2017_2018_2019_DIFF = pd.merge(SAT_2017_2018_2019_DIFF, map_state, how='left',on = ['State'])\n",
    "SAT_2017_2018_2019_DIFF.head(3)"
   ]
  },
  {
   "cell_type": "markdown",
   "metadata": {},
   "source": [
    "### Data Dictionary\n"
   ]
  },
  {
   "cell_type": "markdown",
   "metadata": {},
   "source": [
    "\n",
    "|Feature|Type|Dataset|Description|\n",
    "|---|---|---|---|\n",
    "|State|object|SAT_2017_2018_2019_DIFF|The name of the State of US| \n",
    "|DIFF_SAT_2017_2019|float|SAT_2017_2018_2019_DIFF| SAT Participation Rate in 2019 subtract SAT Participation Rate in 2017|\n",
    "|Participation_Rate_SAT_2017|float|SAT_2017_2018_2019_DIFF|Participation Rate of SAT in 2017|\n",
    "|Participation_Rate_SAT_2018|float|SAT_2017_2018_2019_DIFF|Participation Rate of SAT in 2018|\n",
    "|Participation_Rate_SAT_2019|float|SAT_2017_2018_2019_DIFF|Participation Rate of SAT in 2019|\n",
    "|Abbreviation|object|SAT_2017_2018_2019_DIFF|Abbreviation of the State of US| \n",
    "|State|object|ACT_2017_2018_2019_DIFF|The name of the State of US| \n",
    "|Participation_Rate_ACT_2017|float|ACT_2017_2018_2019_DIFF|Participation Rate of ACT in 2017|\n",
    "|Participation_Rate_ACT_2018|float|ACT_2017_2018_2019_DIFF|Participation Rate of ACT in 2018|\n",
    "|Participation_Rate_ACT_2019|float|ACT_2017_2018_2019_DIFF|Participation Rate of ACT in 2019|"
   ]
  },
  {
   "cell_type": "markdown",
   "metadata": {},
   "source": [
    "## Exploratory Data Analysis\n",
    "\n",
    "Complete the following steps to explore your data. You are welcome to do more EDA than the steps outlined here as you feel necessary:\n",
    "1. Summary Statistics.\n",
    "2. Use a **dictionary comprehension** to apply the standard deviation function you create in part 1 to each numeric column in the dataframe.  **No loops**.\n",
    "    - Assign the output to variable `sd` as a dictionary where: \n",
    "        - Each column name is now a key \n",
    "        - That standard deviation of the column is the value \n",
    "        - *Example Output :* `{'ACT_Math': 120, 'ACT_Reading': 120, ...}`\n",
    "3. Investigate trends in the data.\n",
    "    - Using sorting and/or masking (along with the `.head()` method to avoid printing our entire dataframe), consider questions relevant to your problem statement. Some examples are provided below (but feel free to change these questions for your specific problem):\n",
    "        - Which states have the highest and lowest participation rates for the 2017, 2019, or 2019 SAT and ACT?\n",
    "        - Which states have the highest and lowest mean total/composite scores for the 2017, 2019, or 2019 SAT and ACT?\n",
    "        - Do any states with 100% participation on a given test have a rate change year-to-year?\n",
    "        - Do any states show have >50% participation on *both* tests each year?\n",
    "        - Which colleges have the highest median SAT and ACT scores for admittance?\n",
    "        - Which California school districts have the highest and lowest mean test scores?\n",
    "    - **You should comment on your findings at each step in a markdown cell below your code block**. Make sure you include at least one example of sorting your dataframe by a column, and one example of using boolean filtering (i.e., masking) to select a subset of the dataframe."
   ]
  },
  {
   "cell_type": "markdown",
   "metadata": {},
   "source": [
    "1.Summary Statistics."
   ]
  },
  {
   "cell_type": "markdown",
   "metadata": {},
   "source": [
    "2.Use a dictionary comprehension to apply the standard deviation function you create in part 1 to each numeric column in the dataframe. No loops.\n",
    "\n",
    "\n",
    "    Assign the output to variable sd as a dictionary where:\n",
    "    Each column name is now a key\n",
    "    That standard deviation of the column is the value\n",
    "    Example Output : {'ACT_Math': 120, 'ACT_Reading': 120, ...}"
   ]
  },
  {
   "cell_type": "markdown",
   "metadata": {},
   "source": [
    "3. Investigate trends in the data.\n",
    "    - Using sorting and/or masking (along with the `.head()` method to avoid printing our entire dataframe), consider questions relevant to your problem statement. Some examples are provided below (but feel free to change these questions for your specific problem):\n",
    "        - Which states have the highest and lowest participation rates for the 2017, 2019, or 2019 SAT and ACT?\n",
    "        - Which states have the highest and lowest mean total/composite scores for the 2017, 2019, or 2019 SAT and ACT?\n",
    "        - Do any states with 100% participation on a given test have a rate change year-to-year?\n",
    "        - Do any states show have >50% participation on *both* tests each year?\n",
    "        - Which colleges have the highest median SAT and ACT scores for admittance?\n",
    "        - Which California school districts have the highest and lowest mean test scores?\n",
    "    - **You should comment on your findings at each step in a markdown cell below your code block**. Make sure you include at least one example of sorting your dataframe by a column, and one example of using boolean filtering (i.e., masking) to select a subset of the dataframe.\n",
    "    "
   ]
  },
  {
   "cell_type": "code",
   "execution_count": null,
   "metadata": {},
   "outputs": [],
   "source": []
  },
  {
   "cell_type": "markdown",
   "metadata": {},
   "source": [
    "Which states have the highest and lowest participation rates for the 2017, 2019, or 2019 SAT and ACT?"
   ]
  },
  {
   "cell_type": "code",
   "execution_count": 228,
   "metadata": {
    "scrolled": true
   },
   "outputs": [
    {
     "name": "stdout",
     "output_type": "stream",
     "text": [
      "the highest sat Participation Rate state in 2017 is Columbia\n",
      "the lowest sat Participation Rate state in 2017 is Iowa\n",
      "the highest sat Participation Rate state in 2018 is Colorado\n",
      "the lowest sat Participation Rate state in 2018 is North Dakota\n",
      "the highest sat Participation Rate state in 2019 is Colorado\n",
      "the lowest sat Participation Rate state in 2019 is Virgin Islands\n"
     ]
    }
   ],
   "source": [
    "print(\"the highest sat Participation Rate state in 2017 is\",sat_df17.sort_values('Participation_Rate_SAT_2017',ascending=False).head(1).values[0][0])\n",
    "print(\"the lowest sat Participation Rate state in 2017 is\",sat_df17.sort_values('Participation_Rate_SAT_2017',ascending=False).tail(1).values[0][0])\n",
    "\n",
    "print(\"the highest sat Participation Rate state in 2018 is\",sat_df18.sort_values('Participation_Rate_SAT_2018',ascending=False).head(1).values[0][0])\n",
    "print(\"the lowest sat Participation Rate state in 2018 is\",sat_df18.sort_values('Participation_Rate_SAT_2018',ascending=False).tail(1).values[0][0])\n",
    "\n",
    "print(\"the highest sat Participation Rate state in 2019 is\",sat_df19.sort_values('Participation_Rate_SAT_2019',ascending=False).head(1).values[0][0])\n",
    "print(\"the lowest sat Participation Rate state in 2019 is\",sat_df19.sort_values('Participation_Rate_SAT_2019',ascending=False).tail(1).values[0][0])"
   ]
  },
  {
   "cell_type": "code",
   "execution_count": 229,
   "metadata": {
    "scrolled": true
   },
   "outputs": [
    {
     "name": "stdout",
     "output_type": "stream",
     "text": [
      "the highest act Participation Rate state in 2017 is Missouri\n",
      "the lowest act Participation Rate state in 2017 is Maine\n",
      "the highest act Participation Rate state in 2018 is Alabama\n",
      "the lowest act Participation Rate state in 2018 is Maine\n",
      "the highest act Participation Rate state in 2019 is Alabama\n",
      "the lowest act Participation Rate state in 2019 is Maine\n"
     ]
    }
   ],
   "source": [
    "print(\"the highest act Participation Rate state in 2017 is\",act_df17.sort_values('Participation_Rate_ACT_2017',ascending=False).head(1).values[0][0])\n",
    "print(\"the lowest act Participation Rate state in 2017 is\",act_df17.sort_values('Participation_Rate_ACT_2017',ascending=False).tail(1).values[0][0])\n",
    "\n",
    "print(\"the highest act Participation Rate state in 2018 is\",act_df18.sort_values('Participation_Rate_ACT_2018',ascending=False).head(1).values[0][0])\n",
    "print(\"the lowest act Participation Rate state in 2018 is\",act_df18.sort_values('Participation_Rate_ACT_2018',ascending=False).tail(1).values[0][0])\n",
    "\n",
    "print(\"the highest act Participation Rate state in 2019 is\",act_df19.sort_values('Participation_Rate_ACT_2019',ascending=False).head(1).values[0][0])\n",
    "print(\"the lowest act Participation Rate state in 2019 is\",act_df19.sort_values('Participation_Rate_ACT_2019',ascending=False).tail(1).values[0][0])"
   ]
  },
  {
   "cell_type": "markdown",
   "metadata": {},
   "source": [
    "Which states have the highest and lowest mean total/composite scores for the 2017, 2019, or 2019 SAT and ACT?"
   ]
  },
  {
   "cell_type": "code",
   "execution_count": 230,
   "metadata": {
    "scrolled": true
   },
   "outputs": [
    {
     "name": "stdout",
     "output_type": "stream",
     "text": [
      "the highest sat mean score state in 2017 is Minnesota\n",
      "the lowest sat mean score state in 2017 is Delaware\n",
      "the highest sat mean score state in 2018 is Minnesota\n",
      "the lowest sat mean score state in 2018 is Delaware\n",
      "the highest sat mean score state in 2019 is Minnesota\n",
      "the lowest sat mean score state in 2019 is West Virginia\n"
     ]
    }
   ],
   "source": [
    "print(\"the highest sat mean score state in 2017 is\",SAT_2017_2018_2019_DIFF.sort_values('Score_2017',ascending=False).head(1).values[0][0])\n",
    "print(\"the lowest sat mean score state in 2017 is\",SAT_2017_2018_2019_DIFF.sort_values('Score_2017',ascending=False).tail(1).values[0][0])\n",
    "\n",
    "print(\"the highest sat mean score state in 2018 is\",SAT_2017_2018_2019_DIFF.sort_values('Score_2018',ascending=False).head(1).values[0][0])\n",
    "print(\"the lowest sat mean score state in 2018 is\",SAT_2017_2018_2019_DIFF.sort_values('Score_2018',ascending=False).tail(1).values[0][0])\n",
    "\n",
    "print(\"the highest sat mean score state in 2019 is\",SAT_2017_2018_2019_DIFF.sort_values('Score_2019',ascending=False).head(1).values[0][0])\n",
    "print(\"the lowest sat mean score state in 2019 is\",SAT_2017_2018_2019_DIFF.sort_values('Score_2019',ascending=False).tail(1).values[0][0])"
   ]
  },
  {
   "cell_type": "code",
   "execution_count": 231,
   "metadata": {
    "scrolled": true
   },
   "outputs": [
    {
     "name": "stdout",
     "output_type": "stream",
     "text": [
      "the highest act mean score state in 2017 is New Hampshire\n",
      "the lowest act mean score state in 2017 is Nevada\n",
      "the highest act mean score state in 2018 is Connecticut\n",
      "the lowest act mean score state in 2018 is Nevada\n",
      "the highest act mean score state in 2019 is Massachusetts\n",
      "the lowest act mean score state in 2019 is Nevada\n"
     ]
    }
   ],
   "source": [
    "print(\"the highest act mean score state in 2017 is\",ACT_2017_2018_2019_DIFF.sort_values('Score_2017',ascending=False).head(1).values[0][0])\n",
    "print(\"the lowest act mean score state in 2017 is\",ACT_2017_2018_2019_DIFF.sort_values('Score_2017',ascending=False).tail(1).values[0][0])\n",
    "\n",
    "print(\"the highest act mean score state in 2018 is\",ACT_2017_2018_2019_DIFF.sort_values('Score_2018',ascending=False).head(1).values[0][0])\n",
    "print(\"the lowest act mean score state in 2018 is\",ACT_2017_2018_2019_DIFF.sort_values('Score_2018',ascending=False).tail(1).values[0][0])\n",
    "\n",
    "print(\"the highest act mean score state in 2019 is\",ACT_2017_2018_2019_DIFF.sort_values('Score_2019',ascending=False).head(1).values[0][0])\n",
    "print(\"the lowest act mean score state in 2019 is\",ACT_2017_2018_2019_DIFF.sort_values('Score_2019',ascending=False).tail(1).values[0][0])"
   ]
  },
  {
   "cell_type": "markdown",
   "metadata": {},
   "source": [
    "Do any states show have >50% participation on both tests each year?\n"
   ]
  },
  {
   "cell_type": "code",
   "execution_count": 232,
   "metadata": {
    "scrolled": true
   },
   "outputs": [
    {
     "name": "stdout",
     "output_type": "stream",
     "text": [
      "states show have >50% participation on both tests in 2017\n"
     ]
    },
    {
     "data": {
      "text/html": [
       "<div>\n",
       "<style scoped>\n",
       "    .dataframe tbody tr th:only-of-type {\n",
       "        vertical-align: middle;\n",
       "    }\n",
       "\n",
       "    .dataframe tbody tr th {\n",
       "        vertical-align: top;\n",
       "    }\n",
       "\n",
       "    .dataframe thead th {\n",
       "        text-align: right;\n",
       "    }\n",
       "</style>\n",
       "<table border=\"1\" class=\"dataframe\">\n",
       "  <thead>\n",
       "    <tr style=\"text-align: right;\">\n",
       "      <th></th>\n",
       "      <th>State</th>\n",
       "    </tr>\n",
       "  </thead>\n",
       "  <tbody>\n",
       "    <tr>\n",
       "      <th>0</th>\n",
       "      <td>Florida</td>\n",
       "    </tr>\n",
       "    <tr>\n",
       "      <th>1</th>\n",
       "      <td>Georgia</td>\n",
       "    </tr>\n",
       "    <tr>\n",
       "      <th>2</th>\n",
       "      <td>Hawaii</td>\n",
       "    </tr>\n",
       "  </tbody>\n",
       "</table>\n",
       "</div>"
      ],
      "text/plain": [
       "     State\n",
       "0  Florida\n",
       "1  Georgia\n",
       "2   Hawaii"
      ]
     },
     "execution_count": 232,
     "metadata": {},
     "output_type": "execute_result"
    }
   ],
   "source": [
    "print(\"states show have >50% participation on both tests in 2017\")\n",
    "pd.merge(SAT_2017_2018_2019_DIFF[SAT_2017_2018_2019_DIFF['Participation_Rate_SAT_2017'] > 0.5]['State'], ACT_2017_2018_2019_DIFF[ACT_2017_2018_2019_DIFF['Participation_Rate_ACT_2017'] > 0.5]['State'], how='inner',on = ['State'])"
   ]
  },
  {
   "cell_type": "code",
   "execution_count": 233,
   "metadata": {},
   "outputs": [
    {
     "name": "stdout",
     "output_type": "stream",
     "text": [
      "states show have >50% participation on both tests in 2018\n"
     ]
    },
    {
     "data": {
      "text/html": [
       "<div>\n",
       "<style scoped>\n",
       "    .dataframe tbody tr th:only-of-type {\n",
       "        vertical-align: middle;\n",
       "    }\n",
       "\n",
       "    .dataframe tbody tr th {\n",
       "        vertical-align: top;\n",
       "    }\n",
       "\n",
       "    .dataframe thead th {\n",
       "        text-align: right;\n",
       "    }\n",
       "</style>\n",
       "<table border=\"1\" class=\"dataframe\">\n",
       "  <thead>\n",
       "    <tr style=\"text-align: right;\">\n",
       "      <th></th>\n",
       "      <th>State</th>\n",
       "    </tr>\n",
       "  </thead>\n",
       "  <tbody>\n",
       "    <tr>\n",
       "      <th>0</th>\n",
       "      <td>Florida</td>\n",
       "    </tr>\n",
       "    <tr>\n",
       "      <th>1</th>\n",
       "      <td>Georgia</td>\n",
       "    </tr>\n",
       "    <tr>\n",
       "      <th>2</th>\n",
       "      <td>Hawaii</td>\n",
       "    </tr>\n",
       "    <tr>\n",
       "      <th>3</th>\n",
       "      <td>North Carolina</td>\n",
       "    </tr>\n",
       "    <tr>\n",
       "      <th>4</th>\n",
       "      <td>South Carolina</td>\n",
       "    </tr>\n",
       "  </tbody>\n",
       "</table>\n",
       "</div>"
      ],
      "text/plain": [
       "            State\n",
       "0         Florida\n",
       "1         Georgia\n",
       "2          Hawaii\n",
       "3  North Carolina\n",
       "4  South Carolina"
      ]
     },
     "execution_count": 233,
     "metadata": {},
     "output_type": "execute_result"
    }
   ],
   "source": [
    "print(\"states show have >50% participation on both tests in 2018\")\n",
    "pd.merge(SAT_2017_2018_2019_DIFF[SAT_2017_2018_2019_DIFF['Participation_Rate_SAT_2018'] > 0.5]['State'], ACT_2017_2018_2019_DIFF[ACT_2017_2018_2019_DIFF['Participation_Rate_ACT_2018'] > 0.5]['State'], how='inner',on = ['State'])"
   ]
  },
  {
   "cell_type": "code",
   "execution_count": 234,
   "metadata": {},
   "outputs": [
    {
     "name": "stdout",
     "output_type": "stream",
     "text": [
      "states show have >50% participation on both tests in 2019\n"
     ]
    },
    {
     "data": {
      "text/html": [
       "<div>\n",
       "<style scoped>\n",
       "    .dataframe tbody tr th:only-of-type {\n",
       "        vertical-align: middle;\n",
       "    }\n",
       "\n",
       "    .dataframe tbody tr th {\n",
       "        vertical-align: top;\n",
       "    }\n",
       "\n",
       "    .dataframe thead th {\n",
       "        text-align: right;\n",
       "    }\n",
       "</style>\n",
       "<table border=\"1\" class=\"dataframe\">\n",
       "  <thead>\n",
       "    <tr style=\"text-align: right;\">\n",
       "      <th></th>\n",
       "      <th>State</th>\n",
       "    </tr>\n",
       "  </thead>\n",
       "  <tbody>\n",
       "    <tr>\n",
       "      <th>0</th>\n",
       "      <td>Florida</td>\n",
       "    </tr>\n",
       "    <tr>\n",
       "      <th>1</th>\n",
       "      <td>Hawaii</td>\n",
       "    </tr>\n",
       "    <tr>\n",
       "      <th>2</th>\n",
       "      <td>North Carolina</td>\n",
       "    </tr>\n",
       "    <tr>\n",
       "      <th>3</th>\n",
       "      <td>South Carolina</td>\n",
       "    </tr>\n",
       "  </tbody>\n",
       "</table>\n",
       "</div>"
      ],
      "text/plain": [
       "            State\n",
       "0         Florida\n",
       "1          Hawaii\n",
       "2  North Carolina\n",
       "3  South Carolina"
      ]
     },
     "execution_count": 234,
     "metadata": {},
     "output_type": "execute_result"
    }
   ],
   "source": [
    "print(\"states show have >50% participation on both tests in 2019\")\n",
    "pd.merge(SAT_2017_2018_2019_DIFF[SAT_2017_2018_2019_DIFF['Participation_Rate_SAT_2019'] > 0.5]['State'], ACT_2017_2018_2019_DIFF[ACT_2017_2018_2019_DIFF['Participation_Rate_ACT_2019'] > 0.5]['State'], how='inner',on = ['State'])"
   ]
  },
  {
   "cell_type": "markdown",
   "metadata": {},
   "source": [
    "\n",
    "Which colleges have the highest median SAT and ACT scores for admittance?"
   ]
  },
  {
   "cell_type": "code",
   "execution_count": 276,
   "metadata": {
    "scrolled": true
   },
   "outputs": [
    {
     "data": {
      "text/html": [
       "<div>\n",
       "<style scoped>\n",
       "    .dataframe tbody tr th:only-of-type {\n",
       "        vertical-align: middle;\n",
       "    }\n",
       "\n",
       "    .dataframe tbody tr th {\n",
       "        vertical-align: top;\n",
       "    }\n",
       "\n",
       "    .dataframe thead th {\n",
       "        text-align: right;\n",
       "    }\n",
       "</style>\n",
       "<table border=\"1\" class=\"dataframe\">\n",
       "  <thead>\n",
       "    <tr style=\"text-align: right;\">\n",
       "      <th></th>\n",
       "      <th>School</th>\n",
       "      <th>Test Optional?</th>\n",
       "      <th>Applies to Class Year(s)</th>\n",
       "      <th>Policy Details</th>\n",
       "      <th>Number of Applicants</th>\n",
       "      <th>Accept Rate</th>\n",
       "      <th>SAT Total 25th-75th Percentile</th>\n",
       "      <th>ACT Total 25th-75th Percentile</th>\n",
       "    </tr>\n",
       "  </thead>\n",
       "  <tbody>\n",
       "    <tr>\n",
       "      <th>0</th>\n",
       "      <td>Stanford University</td>\n",
       "      <td>Yes</td>\n",
       "      <td>2021</td>\n",
       "      <td>Stanford has adopted a one-year test optional ...</td>\n",
       "      <td>47452</td>\n",
       "      <td>4.3%</td>\n",
       "      <td>1440-1570</td>\n",
       "      <td>32-35</td>\n",
       "    </tr>\n",
       "    <tr>\n",
       "      <th>1</th>\n",
       "      <td>Harvard College</td>\n",
       "      <td>Yes</td>\n",
       "      <td>2021</td>\n",
       "      <td>Harvard has adopted a one-year test optional p...</td>\n",
       "      <td>42749</td>\n",
       "      <td>4.7%</td>\n",
       "      <td>1460-1580</td>\n",
       "      <td>33-35</td>\n",
       "    </tr>\n",
       "    <tr>\n",
       "      <th>2</th>\n",
       "      <td>Princeton University</td>\n",
       "      <td>Yes</td>\n",
       "      <td>2021</td>\n",
       "      <td>Princeton has adopted a one-year test optional...</td>\n",
       "      <td>35370</td>\n",
       "      <td>5.5%</td>\n",
       "      <td>1440-1570</td>\n",
       "      <td>32-35</td>\n",
       "    </tr>\n",
       "    <tr>\n",
       "      <th>3</th>\n",
       "      <td>Columbia University</td>\n",
       "      <td>Yes</td>\n",
       "      <td>2021</td>\n",
       "      <td>Columbia has adopted a one-year test optional ...</td>\n",
       "      <td>40203</td>\n",
       "      <td>5.5%</td>\n",
       "      <td>1450-1560</td>\n",
       "      <td>33-35</td>\n",
       "    </tr>\n",
       "    <tr>\n",
       "      <th>4</th>\n",
       "      <td>Yale University</td>\n",
       "      <td>Yes</td>\n",
       "      <td>2021</td>\n",
       "      <td>Yale has adopted a one-year test optional poli...</td>\n",
       "      <td>36844</td>\n",
       "      <td>6.1%</td>\n",
       "      <td>1460-1570</td>\n",
       "      <td>33-35</td>\n",
       "    </tr>\n",
       "  </tbody>\n",
       "</table>\n",
       "</div>"
      ],
      "text/plain": [
       "                 School Test Optional? Applies to Class Year(s)  \\\n",
       "0   Stanford University            Yes                     2021   \n",
       "1       Harvard College            Yes                     2021   \n",
       "2  Princeton University            Yes                     2021   \n",
       "3   Columbia University            Yes                     2021   \n",
       "4       Yale University            Yes                     2021   \n",
       "\n",
       "                                      Policy Details  Number of Applicants  \\\n",
       "0  Stanford has adopted a one-year test optional ...                 47452   \n",
       "1  Harvard has adopted a one-year test optional p...                 42749   \n",
       "2  Princeton has adopted a one-year test optional...                 35370   \n",
       "3  Columbia has adopted a one-year test optional ...                 40203   \n",
       "4  Yale has adopted a one-year test optional poli...                 36844   \n",
       "\n",
       "  Accept Rate SAT Total 25th-75th Percentile ACT Total 25th-75th Percentile  \n",
       "0        4.3%                      1440-1570                          32-35  \n",
       "1        4.7%                      1460-1580                          33-35  \n",
       "2        5.5%                      1440-1570                          32-35  \n",
       "3        5.5%                      1450-1560                          33-35  \n",
       "4        6.1%                      1460-1570                          33-35  "
      ]
     },
     "execution_count": 276,
     "metadata": {},
     "output_type": "execute_result"
    }
   ],
   "source": [
    "\n",
    "\n",
    "sat_act_by_college = pd.read_csv('../data/sat_act_by_college.csv' )\n",
    "sat_act_by_college.head() "
   ]
  },
  {
   "cell_type": "code",
   "execution_count": 277,
   "metadata": {},
   "outputs": [
    {
     "data": {
      "text/html": [
       "<div>\n",
       "<style scoped>\n",
       "    .dataframe tbody tr th:only-of-type {\n",
       "        vertical-align: middle;\n",
       "    }\n",
       "\n",
       "    .dataframe tbody tr th {\n",
       "        vertical-align: top;\n",
       "    }\n",
       "\n",
       "    .dataframe thead th {\n",
       "        text-align: right;\n",
       "    }\n",
       "</style>\n",
       "<table border=\"1\" class=\"dataframe\">\n",
       "  <thead>\n",
       "    <tr style=\"text-align: right;\">\n",
       "      <th></th>\n",
       "      <th>School</th>\n",
       "      <th>Test Optional?</th>\n",
       "      <th>Applies to Class Year(s)</th>\n",
       "      <th>Policy Details</th>\n",
       "      <th>Number of Applicants</th>\n",
       "      <th>Accept Rate</th>\n",
       "      <th>SAT Total 25th-75th Percentile</th>\n",
       "      <th>ACT Total 25th-75th Percentile</th>\n",
       "      <th>SAT_75</th>\n",
       "      <th>ACT_75</th>\n",
       "    </tr>\n",
       "  </thead>\n",
       "  <tbody>\n",
       "    <tr>\n",
       "      <th>0</th>\n",
       "      <td>Stanford University</td>\n",
       "      <td>Yes</td>\n",
       "      <td>2021</td>\n",
       "      <td>Stanford has adopted a one-year test optional ...</td>\n",
       "      <td>47452</td>\n",
       "      <td>4.3%</td>\n",
       "      <td>1440-1570</td>\n",
       "      <td>32-35</td>\n",
       "      <td>1570.0</td>\n",
       "      <td>35.0</td>\n",
       "    </tr>\n",
       "    <tr>\n",
       "      <th>1</th>\n",
       "      <td>Harvard College</td>\n",
       "      <td>Yes</td>\n",
       "      <td>2021</td>\n",
       "      <td>Harvard has adopted a one-year test optional p...</td>\n",
       "      <td>42749</td>\n",
       "      <td>4.7%</td>\n",
       "      <td>1460-1580</td>\n",
       "      <td>33-35</td>\n",
       "      <td>1580.0</td>\n",
       "      <td>35.0</td>\n",
       "    </tr>\n",
       "    <tr>\n",
       "      <th>2</th>\n",
       "      <td>Princeton University</td>\n",
       "      <td>Yes</td>\n",
       "      <td>2021</td>\n",
       "      <td>Princeton has adopted a one-year test optional...</td>\n",
       "      <td>35370</td>\n",
       "      <td>5.5%</td>\n",
       "      <td>1440-1570</td>\n",
       "      <td>32-35</td>\n",
       "      <td>1570.0</td>\n",
       "      <td>35.0</td>\n",
       "    </tr>\n",
       "    <tr>\n",
       "      <th>3</th>\n",
       "      <td>Columbia University</td>\n",
       "      <td>Yes</td>\n",
       "      <td>2021</td>\n",
       "      <td>Columbia has adopted a one-year test optional ...</td>\n",
       "      <td>40203</td>\n",
       "      <td>5.5%</td>\n",
       "      <td>1450-1560</td>\n",
       "      <td>33-35</td>\n",
       "      <td>1560.0</td>\n",
       "      <td>35.0</td>\n",
       "    </tr>\n",
       "    <tr>\n",
       "      <th>4</th>\n",
       "      <td>Yale University</td>\n",
       "      <td>Yes</td>\n",
       "      <td>2021</td>\n",
       "      <td>Yale has adopted a one-year test optional poli...</td>\n",
       "      <td>36844</td>\n",
       "      <td>6.1%</td>\n",
       "      <td>1460-1570</td>\n",
       "      <td>33-35</td>\n",
       "      <td>1570.0</td>\n",
       "      <td>35.0</td>\n",
       "    </tr>\n",
       "  </tbody>\n",
       "</table>\n",
       "</div>"
      ],
      "text/plain": [
       "                 School Test Optional? Applies to Class Year(s)  \\\n",
       "0   Stanford University            Yes                     2021   \n",
       "1       Harvard College            Yes                     2021   \n",
       "2  Princeton University            Yes                     2021   \n",
       "3   Columbia University            Yes                     2021   \n",
       "4       Yale University            Yes                     2021   \n",
       "\n",
       "                                      Policy Details  Number of Applicants  \\\n",
       "0  Stanford has adopted a one-year test optional ...                 47452   \n",
       "1  Harvard has adopted a one-year test optional p...                 42749   \n",
       "2  Princeton has adopted a one-year test optional...                 35370   \n",
       "3  Columbia has adopted a one-year test optional ...                 40203   \n",
       "4  Yale has adopted a one-year test optional poli...                 36844   \n",
       "\n",
       "  Accept Rate SAT Total 25th-75th Percentile ACT Total 25th-75th Percentile  \\\n",
       "0        4.3%                      1440-1570                          32-35   \n",
       "1        4.7%                      1460-1580                          33-35   \n",
       "2        5.5%                      1440-1570                          32-35   \n",
       "3        5.5%                      1450-1560                          33-35   \n",
       "4        6.1%                      1460-1570                          33-35   \n",
       "\n",
       "   SAT_75  ACT_75  \n",
       "0  1570.0    35.0  \n",
       "1  1580.0    35.0  \n",
       "2  1570.0    35.0  \n",
       "3  1560.0    35.0  \n",
       "4  1570.0    35.0  "
      ]
     },
     "execution_count": 277,
     "metadata": {},
     "output_type": "execute_result"
    }
   ],
   "source": [
    "def get_75(x):\n",
    "    #print(x)\n",
    "    if x not in ['--']: \n",
    "        return float(x.split('-')[1])\n",
    "    else:\n",
    "        return 0\n",
    "    \n",
    "sat_act_by_college['SAT_75'] = sat_act_by_college['SAT Total 25th-75th Percentile'].apply(get_75) \n",
    "sat_act_by_college['ACT_75'] = sat_act_by_college['ACT Total 25th-75th Percentile'].apply(get_75) \n",
    "\n",
    "sat_act_by_college.head() "
   ]
  },
  {
   "cell_type": "code",
   "execution_count": 282,
   "metadata": {
    "scrolled": true
   },
   "outputs": [
    {
     "name": "stdout",
     "output_type": "stream",
     "text": [
      "The colleges which has the highest median SAT is Harvard College\n",
      "The colleges which has the highest median ACT is California Institute of Technology\n"
     ]
    }
   ],
   "source": [
    "print( \"The colleges which has the highest median SAT is\",sat_act_by_college.sort_values('SAT_75',ascending=False).head(1).values[0][0])\n",
    "print( \"The colleges which has the highest median ACT is\",sat_act_by_college.sort_values('ACT_75',ascending=False).head(1).values[0][0])"
   ]
  },
  {
   "cell_type": "code",
   "execution_count": 235,
   "metadata": {},
   "outputs": [
    {
     "name": "stdout",
     "output_type": "stream",
     "text": [
      "       Participation_Rate_SAT_2017   Score_2017  Participation_Rate_SAT_2018  \\\n",
      "count                    50.000000    50.000000                    50.000000   \n",
      "mean                      0.386000  1129.620000                     0.448200   \n",
      "std                       0.345602    89.913085                     0.370976   \n",
      "min                       0.020000   996.000000                     0.020000   \n",
      "25%                       0.040000  1057.000000                     0.042500   \n",
      "50%                       0.340000  1107.500000                     0.500000   \n",
      "75%                       0.650000  1214.000000                     0.745000   \n",
      "max                       1.000000  1295.000000                     1.000000   \n",
      "\n",
      "        Score_2018  Participation_Rate_SAT_2019   Score_2019  \n",
      "count    50.000000                    50.000000    50.000000  \n",
      "mean   1122.880000                     0.481600  1115.840000  \n",
      "std      92.845634                     0.386002    96.142403  \n",
      "min     998.000000                     0.020000   943.000000  \n",
      "25%    1062.250000                     0.052500  1049.000000  \n",
      "50%    1098.500000                     0.525000  1098.500000  \n",
      "75%    1207.000000                     0.817500  1215.000000  \n",
      "max    1298.000000                     1.000000  1284.000000  \n",
      "       Participation_Rate_ACT_2017  Participation_Rate_ACT_2018  Score_2018  \\\n",
      "count                    51.000000                    51.000000   51.000000   \n",
      "mean                      0.647843                     0.612353   21.503922   \n",
      "std                       0.328063                     0.346483    2.120279   \n",
      "min                       0.080000                     0.070000   17.700000   \n",
      "25%                       0.310000                     0.270000   19.950000   \n",
      "50%                       0.690000                     0.660000   21.300000   \n",
      "75%                       1.000000                     1.000000   23.750000   \n",
      "max                       1.000000                     1.000000   25.600000   \n",
      "\n",
      "       Participation_Rate_ACT_2019  Score_2019  \n",
      "count                    51.000000   51.000000  \n",
      "mean                      0.581569   21.480392  \n",
      "std                       0.351046    2.212150  \n",
      "min                       0.060000   17.900000  \n",
      "25%                       0.235000   19.800000  \n",
      "50%                       0.540000   21.100000  \n",
      "75%                       1.000000   23.900000  \n",
      "max                       1.000000   25.500000  \n"
     ]
    }
   ],
   "source": [
    "#Code:\n",
    "print(SAT_2017_2018_2019_DIFF.describe())\n",
    "print(ACT_2017_2018_2019_DIFF.describe())"
   ]
  },
  {
   "cell_type": "markdown",
   "metadata": {},
   "source": [
    "**To-Do:** *Edit this cell with your findings on trends in the data (step 3 above).*"
   ]
  },
  {
   "cell_type": "code",
   "execution_count": null,
   "metadata": {},
   "outputs": [],
   "source": []
  },
  {
   "cell_type": "code",
   "execution_count": 236,
   "metadata": {},
   "outputs": [
    {
     "name": "stdout",
     "output_type": "stream",
     "text": [
      "TOP 3 states which make a significant improvement in SAT Participation Rate during 2017-2019\n"
     ]
    },
    {
     "data": {
      "text/plain": [
       "['Illinois', 'Colorado', 'West Virginia']"
      ]
     },
     "execution_count": 236,
     "metadata": {},
     "output_type": "execute_result"
    }
   ],
   "source": [
    "SAT_2017_2018_2019_DIFF['DIFF_SAT_2017_2019'] = SAT_2017_2018_2019_DIFF['Participation_Rate_SAT_2019'] - SAT_2017_2018_2019_DIFF['Participation_Rate_SAT_2017']\n",
    "\n",
    "SAT_2017_2018_2019_DIFF = SAT_2017_2018_2019_DIFF[['State','Abbreviation','DIFF_SAT_2017_2019','Participation_Rate_SAT_2019','Participation_Rate_SAT_2018','Participation_Rate_SAT_2017']].sort_values(by=['DIFF_SAT_2017_2019'])\n",
    "\n",
    "top_state_diff_2017_2019 = SAT_2017_2018_2019_DIFF[['State','Abbreviation','DIFF_SAT_2017_2019','Participation_Rate_SAT_2019','Participation_Rate_SAT_2018','Participation_Rate_SAT_2017']].sort_values(by=['DIFF_SAT_2017_2019'],ascending=False).head(3)['State'].to_list()\n",
    "print(\"TOP 3 states which make a significant improvement in SAT Participation Rate during 2017-2019\")\n",
    "\n",
    "top_state_diff_2017_2019"
   ]
  },
  {
   "cell_type": "markdown",
   "metadata": {},
   "source": [
    "## Visualize the Data\n"
   ]
  },
  {
   "cell_type": "code",
   "execution_count": 237,
   "metadata": {},
   "outputs": [],
   "source": [
    "# Code"
   ]
  },
  {
   "cell_type": "code",
   "execution_count": 238,
   "metadata": {},
   "outputs": [
    {
     "data": {
      "text/plain": [
       "<Figure size 432x432 with 0 Axes>"
      ]
     },
     "metadata": {},
     "output_type": "display_data"
    },
    {
     "data": {
      "image/png": "[encoded data removed]",
      "text/plain": [
       "<Figure size 432x288 with 1 Axes>"
      ]
     },
     "metadata": {
      "needs_background": "light"
     },
     "output_type": "display_data"
    }
   ],
   "source": [
    "import matplotlib.ticker as mtick\n",
    "\n",
    "x=['2017','2018','2019']\n",
    "plt.figure(figsize=(6,6) )\n",
    "fig = plt.figure()\n",
    "ax = fig.add_subplot(1,1,1)\n",
    "top = 0\n",
    "for index,rows in SAT_2017_2018_2019_DIFF.iterrows():\n",
    "    y = [rows.Participation_Rate_SAT_2017*100,rows.Participation_Rate_SAT_2018*100, rows.Participation_Rate_SAT_2019*100]\n",
    "    #print(state,len(y))\n",
    "\n",
    "    color_top = ['tomato','tomato','tomato']\n",
    "    color_top = ['r','r','r']\n",
    "    l_style = ['-','--','-']\n",
    "    if len(y) == 3 and rows.State in top_state_diff_2017_2019 :\n",
    "        ax.plot(x, y,color=color_top[top],linewidth=1)\n",
    "        ax.yaxis.set_major_formatter(mtick.PercentFormatter())\n",
    "        top += 1\n",
    "    elif len(y) == 3:\n",
    "        ax.plot(x, y,color='grey',linewidth=0.5)\n",
    "        ax.yaxis.set_major_formatter(mtick.PercentFormatter())\n",
    "        ax.set_ylabel('SAT Participation Rate')\n",
    "plt.savefig('52states-Lines.png',dpi=600)\n",
    "plt.show()\n"
   ]
  },
  {
   "cell_type": "code",
   "execution_count": 239,
   "metadata": {},
   "outputs": [
    {
     "data": {
      "application/vnd.plotly.v1+json": {
       "config": {
        "linkText": "Export to plot.ly",
        "plotlyServerURL": "https://plot.ly",
        "showLink": false
       },
       "data": [
        {
         "colorbar": {
          "title": {
           "text": "SAT %Change btw 2017 and 2019"
          }
         },
         "colorscale": [
          [
           0,
           "rgb(253, 224, 197)"
          ],
          [
           0.16666666666666666,
           "rgb(250, 203, 166)"
          ],
          [
           0.3333333333333333,
           "rgb(248, 181, 139)"
          ],
          [
           0.5,
           "rgb(245, 158, 114)"
          ],
          [
           0.6666666666666666,
           "rgb(242, 133, 93)"
          ],
          [
           0.8333333333333334,
           "rgb(239, 106, 76)"
          ],
          [
           1,
           "rgb(235, 74, 64)"
          ]
         ],
         "locationmode": "USA-states",
         "locations": [
          "NV",
          "HI",
          "NH",
          "MT",
          "WY",
          "KS",
          "WI",
          "KY",
          "NE",
          "CT",
          "ND",
          "SD",
          "DE",
          "MI",
          "MS",
          "IA",
          "MN",
          "UT",
          "MO",
          "LA",
          "AZ",
          "AL",
          "TN",
          "NC",
          "AK",
          "AR",
          "VA",
          "IN",
          "ME",
          "PA",
          "MA",
          "WA",
          "VT",
          "TX",
          "ID",
          "NM",
          "OH",
          "OR",
          "CA",
          "GA",
          "NY",
          "NJ",
          "MD",
          "OK",
          "FL",
          "SC",
          "RI",
          "WV",
          "CO",
          "IL"
         ],
         "text": [
          "Nevada",
          "Hawaii",
          "New Hampshire",
          "Montana",
          "Wyoming",
          "Kansas",
          "Wisconsin",
          "Kentucky",
          "Nebraska",
          "Connecticut",
          "North Dakota",
          "South Dakota",
          "Delaware",
          "Michigan",
          "Mississippi",
          "Iowa",
          "Minnesota",
          "Utah",
          "Missouri",
          "Louisiana",
          "Arizona",
          "Alabama",
          "Tennessee",
          "North Carolina",
          "Alaska",
          "Arkansas",
          "Virginia",
          "Indiana",
          "Maine",
          "Pennsylvania",
          "Massachusetts",
          "Washington",
          "Vermont",
          "Texas",
          "Idaho",
          "New Mexico",
          "Ohio",
          "Oregon",
          "California",
          "Georgia",
          "New York",
          "New Jersey",
          "Maryland",
          "Oklahoma",
          "Florida",
          "South Carolina",
          "Rhode Island",
          "West Virginia",
          "Colorado",
          "Illinois"
         ],
         "type": "choropleth",
         "z": [
          -6,
          -1.0000000000000009,
          -1.0000000000000009,
          -1.0000000000000009,
          0,
          0,
          0,
          0,
          0,
          0,
          0,
          0,
          0,
          0,
          0.9999999999999999,
          0.9999999999999999,
          1.0000000000000002,
          1.0000000000000002,
          1.0000000000000002,
          1.0000000000000002,
          1.0000000000000009,
          2.0000000000000004,
          2.0000000000000004,
          2.0000000000000018,
          2.9999999999999973,
          3,
          3.0000000000000027,
          3.0000000000000027,
          4.0000000000000036,
          4.999999999999993,
          5.000000000000004,
          5.999999999999995,
          6.000000000000005,
          6.000000000000005,
          6.999999999999995,
          6.999999999999999,
          7.000000000000001,
          8.000000000000002,
          9.999999999999998,
          9.999999999999998,
          12,
          12,
          13,
          15,
          17.000000000000004,
          18.000000000000004,
          29.000000000000004,
          85,
          89,
          91
         ]
        }
       ],
       "layout": {
        "geo": {
         "scope": "usa"
        },
        "template": {
         "data": {
          "bar": [
           {
            "error_x": {
             "color": "#2a3f5f"
            },
            "error_y": {
             "color": "#2a3f5f"
            },
            "marker": {
             "line": {
              "color": "#E5ECF6",
              "width": 0.5
             }
            },
            "type": "bar"
           }
          ],
          "barpolar": [
           {
            "marker": {
             "line": {
              "color": "#E5ECF6",
              "width": 0.5
             }
            },
            "type": "barpolar"
           }
          ],
          "carpet": [
           {
            "aaxis": {
             "endlinecolor": "#2a3f5f",
             "gridcolor": "white",
             "linecolor": "white",
             "minorgridcolor": "white",
             "startlinecolor": "#2a3f5f"
            },
            "baxis": {
             "endlinecolor": "#2a3f5f",
             "gridcolor": "white",
             "linecolor": "white",
             "minorgridcolor": "white",
             "startlinecolor": "#2a3f5f"
            },
            "type": "carpet"
           }
          ],
          "choropleth": [
           {
            "colorbar": {
             "outlinewidth": 0,
             "ticks": ""
            },
            "type": "choropleth"
           }
          ],
          "contour": [
           {
            "colorbar": {
             "outlinewidth": 0,
             "ticks": ""
            },
            "colorscale": [
             [
              0,
              "#0d0887"
             ],
             [
              0.1111111111111111,
              "#46039f"
             ],
             [
              0.2222222222222222,
              "#7201a8"
             ],
             [
              0.3333333333333333,
              "#9c179e"
             ],
             [
              0.4444444444444444,
              "#bd3786"
             ],
             [
              0.5555555555555556,
              "#d8576b"
             ],
             [
              0.6666666666666666,
              "#ed7953"
             ],
             [
              0.7777777777777778,
              "#fb9f3a"
             ],
             [
              0.8888888888888888,
              "#fdca26"
             ],
             [
              1,
              "#f0f921"
             ]
            ],
            "type": "contour"
           }
          ],
          "contourcarpet": [
           {
            "colorbar": {
             "outlinewidth": 0,
             "ticks": ""
            },
            "type": "contourcarpet"
           }
          ],
          "heatmap": [
           {
            "colorbar": {
             "outlinewidth": 0,
             "ticks": ""
            },
            "colorscale": [
             [
              0,
              "#0d0887"
             ],
             [
              0.1111111111111111,
              "#46039f"
             ],
             [
              0.2222222222222222,
              "#7201a8"
             ],
             [
              0.3333333333333333,
              "#9c179e"
             ],
             [
              0.4444444444444444,
              "#bd3786"
             ],
             [
              0.5555555555555556,
              "#d8576b"
             ],
             [
              0.6666666666666666,
              "#ed7953"
             ],
             [
              0.7777777777777778,
              "#fb9f3a"
             ],
             [
              0.8888888888888888,
              "#fdca26"
             ],
             [
              1,
              "#f0f921"
             ]
            ],
            "type": "heatmap"
           }
          ],
          "heatmapgl": [
           {
            "colorbar": {
             "outlinewidth": 0,
             "ticks": ""
            },
            "colorscale": [
             [
              0,
              "#0d0887"
             ],
             [
              0.1111111111111111,
              "#46039f"
             ],
             [
              0.2222222222222222,
              "#7201a8"
             ],
             [
              0.3333333333333333,
              "#9c179e"
             ],
             [
              0.4444444444444444,
              "#bd3786"
             ],
             [
              0.5555555555555556,
              "#d8576b"
             ],
             [
              0.6666666666666666,
              "#ed7953"
             ],
             [
              0.7777777777777778,
              "#fb9f3a"
             ],
             [
              0.8888888888888888,
              "#fdca26"
             ],
             [
              1,
              "#f0f921"
             ]
            ],
            "type": "heatmapgl"
           }
          ],
          "histogram": [
           {
            "marker": {
             "colorbar": {
              "outlinewidth": 0,
              "ticks": ""
             }
            },
            "type": "histogram"
           }
          ],
          "histogram2d": [
           {
            "colorbar": {
             "outlinewidth": 0,
             "ticks": ""
            },
            "colorscale": [
             [
              0,
              "#0d0887"
             ],
             [
              0.1111111111111111,
              "#46039f"
             ],
             [
              0.2222222222222222,
              "#7201a8"
             ],
             [
              0.3333333333333333,
              "#9c179e"
             ],
             [
              0.4444444444444444,
              "#bd3786"
             ],
             [
              0.5555555555555556,
              "#d8576b"
             ],
             [
              0.6666666666666666,
              "#ed7953"
             ],
             [
              0.7777777777777778,
              "#fb9f3a"
             ],
             [
              0.8888888888888888,
              "#fdca26"
             ],
             [
              1,
              "#f0f921"
             ]
            ],
            "type": "histogram2d"
           }
          ],
          "histogram2dcontour": [
           {
            "colorbar": {
             "outlinewidth": 0,
             "ticks": ""
            },
            "colorscale": [
             [
              0,
              "#0d0887"
             ],
             [
              0.1111111111111111,
              "#46039f"
             ],
             [
              0.2222222222222222,
              "#7201a8"
             ],
             [
              0.3333333333333333,
              "#9c179e"
             ],
             [
              0.4444444444444444,
              "#bd3786"
             ],
             [
              0.5555555555555556,
              "#d8576b"
             ],
             [
              0.6666666666666666,
              "#ed7953"
             ],
             [
              0.7777777777777778,
              "#fb9f3a"
             ],
             [
              0.8888888888888888,
              "#fdca26"
             ],
             [
              1,
              "#f0f921"
             ]
            ],
            "type": "histogram2dcontour"
           }
          ],
          "mesh3d": [
           {
            "colorbar": {
             "outlinewidth": 0,
             "ticks": ""
            },
            "type": "mesh3d"
           }
          ],
          "parcoords": [
           {
            "line": {
             "colorbar": {
              "outlinewidth": 0,
              "ticks": ""
             }
            },
            "type": "parcoords"
           }
          ],
          "pie": [
           {
            "automargin": true,
            "type": "pie"
           }
          ],
          "scatter": [
           {
            "marker": {
             "colorbar": {
              "outlinewidth": 0,
              "ticks": ""
             }
            },
            "type": "scatter"
           }
          ],
          "scatter3d": [
           {
            "line": {
             "colorbar": {
              "outlinewidth": 0,
              "ticks": ""
             }
            },
            "marker": {
             "colorbar": {
              "outlinewidth": 0,
              "ticks": ""
             }
            },
            "type": "scatter3d"
           }
          ],
          "scattercarpet": [
           {
            "marker": {
             "colorbar": {
              "outlinewidth": 0,
              "ticks": ""
             }
            },
            "type": "scattercarpet"
           }
          ],
          "scattergeo": [
           {
            "marker": {
             "colorbar": {
              "outlinewidth": 0,
              "ticks": ""
             }
            },
            "type": "scattergeo"
           }
          ],
          "scattergl": [
           {
            "marker": {
             "colorbar": {
              "outlinewidth": 0,
              "ticks": ""
             }
            },
            "type": "scattergl"
           }
          ],
          "scattermapbox": [
           {
            "marker": {
             "colorbar": {
              "outlinewidth": 0,
              "ticks": ""
             }
            },
            "type": "scattermapbox"
           }
          ],
          "scatterpolar": [
           {
            "marker": {
             "colorbar": {
              "outlinewidth": 0,
              "ticks": ""
             }
            },
            "type": "scatterpolar"
           }
          ],
          "scatterpolargl": [
           {
            "marker": {
             "colorbar": {
              "outlinewidth": 0,
              "ticks": ""
             }
            },
            "type": "scatterpolargl"
           }
          ],
          "scatterternary": [
           {
            "marker": {
             "colorbar": {
              "outlinewidth": 0,
              "ticks": ""
             }
            },
            "type": "scatterternary"
           }
          ],
          "surface": [
           {
            "colorbar": {
             "outlinewidth": 0,
             "ticks": ""
            },
            "colorscale": [
             [
              0,
              "#0d0887"
             ],
             [
              0.1111111111111111,
              "#46039f"
             ],
             [
              0.2222222222222222,
              "#7201a8"
             ],
             [
              0.3333333333333333,
              "#9c179e"
             ],
             [
              0.4444444444444444,
              "#bd3786"
             ],
             [
              0.5555555555555556,
              "#d8576b"
             ],
             [
              0.6666666666666666,
              "#ed7953"
             ],
             [
              0.7777777777777778,
              "#fb9f3a"
             ],
             [
              0.8888888888888888,
              "#fdca26"
             ],
             [
              1,
              "#f0f921"
             ]
            ],
            "type": "surface"
           }
          ],
          "table": [
           {
            "cells": {
             "fill": {
              "color": "#EBF0F8"
             },
             "line": {
              "color": "white"
             }
            },
            "header": {
             "fill": {
              "color": "#C8D4E3"
             },
             "line": {
              "color": "white"
             }
            },
            "type": "table"
           }
          ]
         },
         "layout": {
          "annotationdefaults": {
           "arrowcolor": "#2a3f5f",
           "arrowhead": 0,
           "arrowwidth": 1
          },
          "autotypenumbers": "strict",
          "coloraxis": {
           "colorbar": {
            "outlinewidth": 0,
            "ticks": ""
           }
          },
          "colorscale": {
           "diverging": [
            [
             0,
             "#8e0152"
            ],
            [
             0.1,
             "#c51b7d"
            ],
            [
             0.2,
             "#de77ae"
            ],
            [
             0.3,
             "#f1b6da"
            ],
            [
             0.4,
             "#fde0ef"
            ],
            [
             0.5,
             "#f7f7f7"
            ],
            [
             0.6,
             "#e6f5d0"
            ],
            [
             0.7,
             "#b8e186"
            ],
            [
             0.8,
             "#7fbc41"
            ],
            [
             0.9,
             "#4d9221"
            ],
            [
             1,
             "#276419"
            ]
           ],
           "sequential": [
            [
             0,
             "#0d0887"
            ],
            [
             0.1111111111111111,
             "#46039f"
            ],
            [
             0.2222222222222222,
             "#7201a8"
            ],
            [
             0.3333333333333333,
             "#9c179e"
            ],
            [
             0.4444444444444444,
             "#bd3786"
            ],
            [
             0.5555555555555556,
             "#d8576b"
            ],
            [
             0.6666666666666666,
             "#ed7953"
            ],
            [
             0.7777777777777778,
             "#fb9f3a"
            ],
            [
             0.8888888888888888,
             "#fdca26"
            ],
            [
             1,
             "#f0f921"
            ]
           ],
           "sequentialminus": [
            [
             0,
             "#0d0887"
            ],
            [
             0.1111111111111111,
             "#46039f"
            ],
            [
             0.2222222222222222,
             "#7201a8"
            ],
            [
             0.3333333333333333,
             "#9c179e"
            ],
            [
             0.4444444444444444,
             "#bd3786"
            ],
            [
             0.5555555555555556,
             "#d8576b"
            ],
            [
             0.6666666666666666,
             "#ed7953"
            ],
            [
             0.7777777777777778,
             "#fb9f3a"
            ],
            [
             0.8888888888888888,
             "#fdca26"
            ],
            [
             1,
             "#f0f921"
            ]
           ]
          },
          "colorway": [
           "#636efa",
           "#EF553B",
           "#00cc96",
           "#ab63fa",
           "#FFA15A",
           "#19d3f3",
           "#FF6692",
           "#B6E880",
           "#FF97FF",
           "#FECB52"
          ],
          "font": {
           "color": "#2a3f5f"
          },
          "geo": {
           "bgcolor": "white",
           "lakecolor": "white",
           "landcolor": "#E5ECF6",
           "showlakes": true,
           "showland": true,
           "subunitcolor": "white"
          },
          "hoverlabel": {
           "align": "left"
          },
          "hovermode": "closest",
          "mapbox": {
           "style": "light"
          },
          "paper_bgcolor": "white",
          "plot_bgcolor": "#E5ECF6",
          "polar": {
           "angularaxis": {
            "gridcolor": "white",
            "linecolor": "white",
            "ticks": ""
           },
           "bgcolor": "#E5ECF6",
           "radialaxis": {
            "gridcolor": "white",
            "linecolor": "white",
            "ticks": ""
           }
          },
          "scene": {
           "xaxis": {
            "backgroundcolor": "#E5ECF6",
            "gridcolor": "white",
            "gridwidth": 2,
            "linecolor": "white",
            "showbackground": true,
            "ticks": "",
            "zerolinecolor": "white"
           },
           "yaxis": {
            "backgroundcolor": "#E5ECF6",
            "gridcolor": "white",
            "gridwidth": 2,
            "linecolor": "white",
            "showbackground": true,
            "ticks": "",
            "zerolinecolor": "white"
           },
           "zaxis": {
            "backgroundcolor": "#E5ECF6",
            "gridcolor": "white",
            "gridwidth": 2,
            "linecolor": "white",
            "showbackground": true,
            "ticks": "",
            "zerolinecolor": "white"
           }
          },
          "shapedefaults": {
           "line": {
            "color": "#2a3f5f"
           }
          },
          "ternary": {
           "aaxis": {
            "gridcolor": "white",
            "linecolor": "white",
            "ticks": ""
           },
           "baxis": {
            "gridcolor": "white",
            "linecolor": "white",
            "ticks": ""
           },
           "bgcolor": "#E5ECF6",
           "caxis": {
            "gridcolor": "white",
            "linecolor": "white",
            "ticks": ""
           }
          },
          "title": {
           "x": 0.05
          },
          "xaxis": {
           "automargin": true,
           "gridcolor": "white",
           "linecolor": "white",
           "ticks": "",
           "title": {
            "standoff": 15
           },
           "zerolinecolor": "white",
           "zerolinewidth": 2
          },
          "yaxis": {
           "automargin": true,
           "gridcolor": "white",
           "linecolor": "white",
           "ticks": "",
           "title": {
            "standoff": 15
           },
           "zerolinecolor": "white",
           "zerolinewidth": 2
          }
         }
        },
        "title": {
         "text": "s"
        }
       }
      },
      "text/html": [
       "<div>                            <div id=\"12b000ca-096f-4565-af7d-bd22b78bf5ea\" class=\"plotly-graph-div\" style=\"height:525px; width:100%;\"></div>            <script type=\"text/javascript\">                require([\"plotly\"], function(Plotly) {                    window.PLOTLYENV=window.PLOTLYENV || {};                                    if (document.getElementById(\"12b000ca-096f-4565-af7d-bd22b78bf5ea\")) {                    Plotly.newPlot(                        \"12b000ca-096f-4565-af7d-bd22b78bf5ea\",                        [{\"colorbar\": {\"title\": {\"text\": \"SAT %Change btw 2017 and 2019\"}}, \"colorscale\": [[0.0, \"rgb(253, 224, 197)\"], [0.16666666666666666, \"rgb(250, 203, 166)\"], [0.3333333333333333, \"rgb(248, 181, 139)\"], [0.5, \"rgb(245, 158, 114)\"], [0.6666666666666666, \"rgb(242, 133, 93)\"], [0.8333333333333334, \"rgb(239, 106, 76)\"], [1.0, \"rgb(235, 74, 64)\"]], \"locationmode\": \"USA-states\", \"locations\": [\"NV\", \"HI\", \"NH\", \"MT\", \"WY\", \"KS\", \"WI\", \"KY\", \"NE\", \"CT\", \"ND\", \"SD\", \"DE\", \"MI\", \"MS\", \"IA\", \"MN\", \"UT\", \"MO\", \"LA\", \"AZ\", \"AL\", \"TN\", \"NC\", \"AK\", \"AR\", \"VA\", \"IN\", \"ME\", \"PA\", \"MA\", \"WA\", \"VT\", \"TX\", \"ID\", \"NM\", \"OH\", \"OR\", \"CA\", \"GA\", \"NY\", \"NJ\", \"MD\", \"OK\", \"FL\", \"SC\", \"RI\", \"WV\", \"CO\", \"IL\"], \"text\": [\"Nevada\", \"Hawaii\", \"New Hampshire\", \"Montana\", \"Wyoming\", \"Kansas\", \"Wisconsin\", \"Kentucky\", \"Nebraska\", \"Connecticut\", \"North Dakota\", \"South Dakota\", \"Delaware\", \"Michigan\", \"Mississippi\", \"Iowa\", \"Minnesota\", \"Utah\", \"Missouri\", \"Louisiana\", \"Arizona\", \"Alabama\", \"Tennessee\", \"North Carolina\", \"Alaska\", \"Arkansas\", \"Virginia\", \"Indiana\", \"Maine\", \"Pennsylvania\", \"Massachusetts\", \"Washington\", \"Vermont\", \"Texas\", \"Idaho\", \"New Mexico\", \"Ohio\", \"Oregon\", \"California\", \"Georgia\", \"New York\", \"New Jersey\", \"Maryland\", \"Oklahoma\", \"Florida\", \"South Carolina\", \"Rhode Island\", \"West Virginia\", \"Colorado\", \"Illinois\"], \"type\": \"choropleth\", \"z\": [-6.0, -1.0000000000000009, -1.0000000000000009, -1.0000000000000009, 0.0, 0.0, 0.0, 0.0, 0.0, 0.0, 0.0, 0.0, 0.0, 0.0, 0.9999999999999999, 0.9999999999999999, 1.0000000000000002, 1.0000000000000002, 1.0000000000000002, 1.0000000000000002, 1.0000000000000009, 2.0000000000000004, 2.0000000000000004, 2.0000000000000018, 2.9999999999999973, 3.0, 3.0000000000000027, 3.0000000000000027, 4.0000000000000036, 4.999999999999993, 5.000000000000004, 5.999999999999995, 6.000000000000005, 6.000000000000005, 6.999999999999995, 6.999999999999999, 7.000000000000001, 8.000000000000002, 9.999999999999998, 9.999999999999998, 12.0, 12.0, 13.0, 15.0, 17.000000000000004, 18.000000000000004, 29.000000000000004, 85.0, 89.0, 91.0]}],                        {\"geo\": {\"scope\": \"usa\"}, \"template\": {\"data\": {\"bar\": [{\"error_x\": {\"color\": \"#2a3f5f\"}, \"error_y\": {\"color\": \"#2a3f5f\"}, \"marker\": {\"line\": {\"color\": \"#E5ECF6\", \"width\": 0.5}}, \"type\": \"bar\"}], \"barpolar\": [{\"marker\": {\"line\": {\"color\": \"#E5ECF6\", \"width\": 0.5}}, \"type\": \"barpolar\"}], \"carpet\": [{\"aaxis\": {\"endlinecolor\": \"#2a3f5f\", \"gridcolor\": \"white\", \"linecolor\": \"white\", \"minorgridcolor\": \"white\", \"startlinecolor\": \"#2a3f5f\"}, \"baxis\": {\"endlinecolor\": \"#2a3f5f\", \"gridcolor\": \"white\", \"linecolor\": \"white\", \"minorgridcolor\": \"white\", \"startlinecolor\": \"#2a3f5f\"}, \"type\": \"carpet\"}], \"choropleth\": [{\"colorbar\": {\"outlinewidth\": 0, \"ticks\": \"\"}, \"type\": \"choropleth\"}], \"contour\": [{\"colorbar\": {\"outlinewidth\": 0, \"ticks\": \"\"}, \"colorscale\": [[0.0, \"#0d0887\"], [0.1111111111111111, \"#46039f\"], [0.2222222222222222, \"#7201a8\"], [0.3333333333333333, \"#9c179e\"], [0.4444444444444444, \"#bd3786\"], [0.5555555555555556, \"#d8576b\"], [0.6666666666666666, \"#ed7953\"], [0.7777777777777778, \"#fb9f3a\"], [0.8888888888888888, \"#fdca26\"], [1.0, \"#f0f921\"]], \"type\": \"contour\"}], \"contourcarpet\": [{\"colorbar\": {\"outlinewidth\": 0, \"ticks\": \"\"}, \"type\": \"contourcarpet\"}], \"heatmap\": [{\"colorbar\": {\"outlinewidth\": 0, \"ticks\": \"\"}, \"colorscale\": [[0.0, \"#0d0887\"], [0.1111111111111111, \"#46039f\"], [0.2222222222222222, \"#7201a8\"], [0.3333333333333333, \"#9c179e\"], [0.4444444444444444, \"#bd3786\"], [0.5555555555555556, \"#d8576b\"], [0.6666666666666666, \"#ed7953\"], [0.7777777777777778, \"#fb9f3a\"], [0.8888888888888888, \"#fdca26\"], [1.0, \"#f0f921\"]], \"type\": \"heatmap\"}], \"heatmapgl\": [{\"colorbar\": {\"outlinewidth\": 0, \"ticks\": \"\"}, \"colorscale\": [[0.0, \"#0d0887\"], [0.1111111111111111, \"#46039f\"], [0.2222222222222222, \"#7201a8\"], [0.3333333333333333, \"#9c179e\"], [0.4444444444444444, \"#bd3786\"], [0.5555555555555556, \"#d8576b\"], [0.6666666666666666, \"#ed7953\"], [0.7777777777777778, \"#fb9f3a\"], [0.8888888888888888, \"#fdca26\"], [1.0, \"#f0f921\"]], \"type\": \"heatmapgl\"}], \"histogram\": [{\"marker\": {\"colorbar\": {\"outlinewidth\": 0, \"ticks\": \"\"}}, \"type\": \"histogram\"}], \"histogram2d\": [{\"colorbar\": {\"outlinewidth\": 0, \"ticks\": \"\"}, \"colorscale\": [[0.0, \"#0d0887\"], [0.1111111111111111, \"#46039f\"], [0.2222222222222222, \"#7201a8\"], [0.3333333333333333, \"#9c179e\"], [0.4444444444444444, \"#bd3786\"], [0.5555555555555556, \"#d8576b\"], [0.6666666666666666, \"#ed7953\"], [0.7777777777777778, \"#fb9f3a\"], [0.8888888888888888, \"#fdca26\"], [1.0, \"#f0f921\"]], \"type\": \"histogram2d\"}], \"histogram2dcontour\": [{\"colorbar\": {\"outlinewidth\": 0, \"ticks\": \"\"}, \"colorscale\": [[0.0, \"#0d0887\"], [0.1111111111111111, \"#46039f\"], [0.2222222222222222, \"#7201a8\"], [0.3333333333333333, \"#9c179e\"], [0.4444444444444444, \"#bd3786\"], [0.5555555555555556, \"#d8576b\"], [0.6666666666666666, \"#ed7953\"], [0.7777777777777778, \"#fb9f3a\"], [0.8888888888888888, \"#fdca26\"], [1.0, \"#f0f921\"]], \"type\": \"histogram2dcontour\"}], \"mesh3d\": [{\"colorbar\": {\"outlinewidth\": 0, \"ticks\": \"\"}, \"type\": \"mesh3d\"}], \"parcoords\": [{\"line\": {\"colorbar\": {\"outlinewidth\": 0, \"ticks\": \"\"}}, \"type\": \"parcoords\"}], \"pie\": [{\"automargin\": true, \"type\": \"pie\"}], \"scatter\": [{\"marker\": {\"colorbar\": {\"outlinewidth\": 0, \"ticks\": \"\"}}, \"type\": \"scatter\"}], \"scatter3d\": [{\"line\": {\"colorbar\": {\"outlinewidth\": 0, \"ticks\": \"\"}}, \"marker\": {\"colorbar\": {\"outlinewidth\": 0, \"ticks\": \"\"}}, \"type\": \"scatter3d\"}], \"scattercarpet\": [{\"marker\": {\"colorbar\": {\"outlinewidth\": 0, \"ticks\": \"\"}}, \"type\": \"scattercarpet\"}], \"scattergeo\": [{\"marker\": {\"colorbar\": {\"outlinewidth\": 0, \"ticks\": \"\"}}, \"type\": \"scattergeo\"}], \"scattergl\": [{\"marker\": {\"colorbar\": {\"outlinewidth\": 0, \"ticks\": \"\"}}, \"type\": \"scattergl\"}], \"scattermapbox\": [{\"marker\": {\"colorbar\": {\"outlinewidth\": 0, \"ticks\": \"\"}}, \"type\": \"scattermapbox\"}], \"scatterpolar\": [{\"marker\": {\"colorbar\": {\"outlinewidth\": 0, \"ticks\": \"\"}}, \"type\": \"scatterpolar\"}], \"scatterpolargl\": [{\"marker\": {\"colorbar\": {\"outlinewidth\": 0, \"ticks\": \"\"}}, \"type\": \"scatterpolargl\"}], \"scatterternary\": [{\"marker\": {\"colorbar\": {\"outlinewidth\": 0, \"ticks\": \"\"}}, \"type\": \"scatterternary\"}], \"surface\": [{\"colorbar\": {\"outlinewidth\": 0, \"ticks\": \"\"}, \"colorscale\": [[0.0, \"#0d0887\"], [0.1111111111111111, \"#46039f\"], [0.2222222222222222, \"#7201a8\"], [0.3333333333333333, \"#9c179e\"], [0.4444444444444444, \"#bd3786\"], [0.5555555555555556, \"#d8576b\"], [0.6666666666666666, \"#ed7953\"], [0.7777777777777778, \"#fb9f3a\"], [0.8888888888888888, \"#fdca26\"], [1.0, \"#f0f921\"]], \"type\": \"surface\"}], \"table\": [{\"cells\": {\"fill\": {\"color\": \"#EBF0F8\"}, \"line\": {\"color\": \"white\"}}, \"header\": {\"fill\": {\"color\": \"#C8D4E3\"}, \"line\": {\"color\": \"white\"}}, \"type\": \"table\"}]}, \"layout\": {\"annotationdefaults\": {\"arrowcolor\": \"#2a3f5f\", \"arrowhead\": 0, \"arrowwidth\": 1}, \"autotypenumbers\": \"strict\", \"coloraxis\": {\"colorbar\": {\"outlinewidth\": 0, \"ticks\": \"\"}}, \"colorscale\": {\"diverging\": [[0, \"#8e0152\"], [0.1, \"#c51b7d\"], [0.2, \"#de77ae\"], [0.3, \"#f1b6da\"], [0.4, \"#fde0ef\"], [0.5, \"#f7f7f7\"], [0.6, \"#e6f5d0\"], [0.7, \"#b8e186\"], [0.8, \"#7fbc41\"], [0.9, \"#4d9221\"], [1, \"#276419\"]], \"sequential\": [[0.0, \"#0d0887\"], [0.1111111111111111, \"#46039f\"], [0.2222222222222222, \"#7201a8\"], [0.3333333333333333, \"#9c179e\"], [0.4444444444444444, \"#bd3786\"], [0.5555555555555556, \"#d8576b\"], [0.6666666666666666, \"#ed7953\"], [0.7777777777777778, \"#fb9f3a\"], [0.8888888888888888, \"#fdca26\"], [1.0, \"#f0f921\"]], \"sequentialminus\": [[0.0, \"#0d0887\"], [0.1111111111111111, \"#46039f\"], [0.2222222222222222, \"#7201a8\"], [0.3333333333333333, \"#9c179e\"], [0.4444444444444444, \"#bd3786\"], [0.5555555555555556, \"#d8576b\"], [0.6666666666666666, \"#ed7953\"], [0.7777777777777778, \"#fb9f3a\"], [0.8888888888888888, \"#fdca26\"], [1.0, \"#f0f921\"]]}, \"colorway\": [\"#636efa\", \"#EF553B\", \"#00cc96\", \"#ab63fa\", \"#FFA15A\", \"#19d3f3\", \"#FF6692\", \"#B6E880\", \"#FF97FF\", \"#FECB52\"], \"font\": {\"color\": \"#2a3f5f\"}, \"geo\": {\"bgcolor\": \"white\", \"lakecolor\": \"white\", \"landcolor\": \"#E5ECF6\", \"showlakes\": true, \"showland\": true, \"subunitcolor\": \"white\"}, \"hoverlabel\": {\"align\": \"left\"}, \"hovermode\": \"closest\", \"mapbox\": {\"style\": \"light\"}, \"paper_bgcolor\": \"white\", \"plot_bgcolor\": \"#E5ECF6\", \"polar\": {\"angularaxis\": {\"gridcolor\": \"white\", \"linecolor\": \"white\", \"ticks\": \"\"}, \"bgcolor\": \"#E5ECF6\", \"radialaxis\": {\"gridcolor\": \"white\", \"linecolor\": \"white\", \"ticks\": \"\"}}, \"scene\": {\"xaxis\": {\"backgroundcolor\": \"#E5ECF6\", \"gridcolor\": \"white\", \"gridwidth\": 2, \"linecolor\": \"white\", \"showbackground\": true, \"ticks\": \"\", \"zerolinecolor\": \"white\"}, \"yaxis\": {\"backgroundcolor\": \"#E5ECF6\", \"gridcolor\": \"white\", \"gridwidth\": 2, \"linecolor\": \"white\", \"showbackground\": true, \"ticks\": \"\", \"zerolinecolor\": \"white\"}, \"zaxis\": {\"backgroundcolor\": \"#E5ECF6\", \"gridcolor\": \"white\", \"gridwidth\": 2, \"linecolor\": \"white\", \"showbackground\": true, \"ticks\": \"\", \"zerolinecolor\": \"white\"}}, \"shapedefaults\": {\"line\": {\"color\": \"#2a3f5f\"}}, \"ternary\": {\"aaxis\": {\"gridcolor\": \"white\", \"linecolor\": \"white\", \"ticks\": \"\"}, \"baxis\": {\"gridcolor\": \"white\", \"linecolor\": \"white\", \"ticks\": \"\"}, \"bgcolor\": \"#E5ECF6\", \"caxis\": {\"gridcolor\": \"white\", \"linecolor\": \"white\", \"ticks\": \"\"}}, \"title\": {\"x\": 0.05}, \"xaxis\": {\"automargin\": true, \"gridcolor\": \"white\", \"linecolor\": \"white\", \"ticks\": \"\", \"title\": {\"standoff\": 15}, \"zerolinecolor\": \"white\", \"zerolinewidth\": 2}, \"yaxis\": {\"automargin\": true, \"gridcolor\": \"white\", \"linecolor\": \"white\", \"ticks\": \"\", \"title\": {\"standoff\": 15}, \"zerolinecolor\": \"white\", \"zerolinewidth\": 2}}}, \"title\": {\"text\": \"s\"}},                        {\"responsive\": true}                    ).then(function(){\n",
       "                            \n",
       "var gd = document.getElementById('12b000ca-096f-4565-af7d-bd22b78bf5ea');\n",
       "var x = new MutationObserver(function (mutations, observer) {{\n",
       "        var display = window.getComputedStyle(gd).display;\n",
       "        if (!display || display === 'none') {{\n",
       "            console.log([gd, 'removed!']);\n",
       "            Plotly.purge(gd);\n",
       "            observer.disconnect();\n",
       "        }}\n",
       "}});\n",
       "\n",
       "// Listen for the removal of the full notebook cells\n",
       "var notebookContainer = gd.closest('#notebook-container');\n",
       "if (notebookContainer) {{\n",
       "    x.observe(notebookContainer, {childList: true});\n",
       "}}\n",
       "\n",
       "// Listen for the clearing of the current output cell\n",
       "var outputEl = gd.closest('.output');\n",
       "if (outputEl) {{\n",
       "    x.observe(outputEl, {childList: true});\n",
       "}}\n",
       "\n",
       "                        })                };                });            </script>        </div>"
      ]
     },
     "metadata": {},
     "output_type": "display_data"
    }
   ],
   "source": [
    "\n",
    "import plotly.graph_objs as go #importing graphical objects\n",
    "from plotly.offline import  iplot\n",
    "\n",
    "aa = SAT_2017_2018_2019_DIFF['DIFF_SAT_2017_2019']*100\n",
    "aa = [str(int(i*100))+\"%\"  for i in aa ]\n",
    "data = dict(type='choropleth',\n",
    "            locations = SAT_2017_2018_2019_DIFF['Abbreviation'],\n",
    "            locationmode = 'USA-states',\n",
    "            colorscale = 'Peach',\n",
    "            text = SAT_2017_2018_2019_DIFF['State'],\n",
    "            z =SAT_2017_2018_2019_DIFF['DIFF_SAT_2017_2019']*100,\n",
    "            colorbar = {'title':\"SAT %Change btw 2017 and 2019\"}\n",
    "            )\n",
    "\n",
    "layout = dict(title = 's',\n",
    "              geo = dict(scope='usa')\n",
    "             )\n",
    "choromap = go.Figure(data = [data],layout = layout)\n",
    "iplot(choromap)"
   ]
  },
  {
   "cell_type": "code",
   "execution_count": 240,
   "metadata": {},
   "outputs": [
    {
     "data": {
      "text/plain": [
       "<Figure size 576x576 with 0 Axes>"
      ]
     },
     "metadata": {},
     "output_type": "display_data"
    },
    {
     "data": {
      "image/png": "[encoded data removed]",
      "text/plain": [
       "<Figure size 432x288 with 1 Axes>"
      ]
     },
     "metadata": {
      "needs_background": "light"
     },
     "output_type": "display_data"
    },
    {
     "data": {
      "image/png": "[encoded data removed]",
      "text/plain": [
       "<Figure size 432x288 with 1 Axes>"
      ]
     },
     "metadata": {
      "needs_background": "light"
     },
     "output_type": "display_data"
    },
    {
     "data": {
      "image/png": "[encoded data removed]",
      "text/plain": [
       "<Figure size 432x288 with 1 Axes>"
      ]
     },
     "metadata": {
      "needs_background": "light"
     },
     "output_type": "display_data"
    }
   ],
   "source": [
    "\n",
    "\n",
    "plt.figure(figsize=(8,8) )\n",
    "for top_state in top_state_diff_2017_2019:\n",
    "    df_1 = SAT_2017_2018_2019_DIFF[SAT_2017_2018_2019_DIFF['State']==top_state][['Participation_Rate_SAT_2017','Participation_Rate_SAT_2018','Participation_Rate_SAT_2019']]\n",
    "    \n",
    "    fig = plt.figure()\n",
    "    ax = fig.add_subplot(1,1,1)\n",
    "\n",
    "    x=['2017','2018','2019']\n",
    "    y =df_1.values.tolist()[0]\n",
    "    y = [int(i*100)  for i in y ]\n",
    "    \n",
    "    ax.bar(x, y, color='red',width=0.5)\n",
    "    for index, value in enumerate(y):\n",
    "        ax.text(x[index], value+1, str(value)+\"%\")\n",
    "    ax.yaxis.set_major_formatter(mtick.PercentFormatter()) \n",
    "    ax.set_ylabel('Participation Rate')\n",
    "    ax.title.set_text(top_state)\n",
    "    plt.savefig(f'{top_state}.png',dpi=600)\n",
    "plt.show()"
   ]
  },
  {
   "cell_type": "code",
   "execution_count": 241,
   "metadata": {},
   "outputs": [
    {
     "data": {
      "text/plain": [
       "<Figure size 576x576 with 0 Axes>"
      ]
     },
     "metadata": {},
     "output_type": "display_data"
    },
    {
     "data": {
      "image/png": "[encoded data removed]",
      "text/plain": [
       "<Figure size 432x288 with 1 Axes>"
      ]
     },
     "metadata": {
      "needs_background": "light"
     },
     "output_type": "display_data"
    },
    {
     "data": {
      "image/png": "[encoded data removed]",
      "text/plain": [
       "<Figure size 432x288 with 1 Axes>"
      ]
     },
     "metadata": {
      "needs_background": "light"
     },
     "output_type": "display_data"
    },
    {
     "data": {
      "image/png": "[encoded data removed]",
      "text/plain": [
       "<Figure size 432x288 with 1 Axes>"
      ]
     },
     "metadata": {
      "needs_background": "light"
     },
     "output_type": "display_data"
    }
   ],
   "source": [
    "\n",
    "plt.figure(figsize=(8,8) )\n",
    "x=['2017','2018','2019']\n",
    "for top_state in top_state_diff_2017_2019:\n",
    "    df_1 = SAT_2017_2018_2019_DIFF[SAT_2017_2018_2019_DIFF['State']==top_state][['Participation_Rate_SAT_2017','Participation_Rate_SAT_2018','Participation_Rate_SAT_2019']]\n",
    "    fig = plt.figure()\n",
    "    ax = fig.add_subplot(1,1,1)\n",
    "    #x = list(df_1.columns)\n",
    "    y = df_1.values.tolist()[0]\n",
    "    y = [int(i*100)  for i in y ]\n",
    "    #print(x)\n",
    "    ax.plot(x, y, color='red', marker='o' ,linewidth=3, markersize=12)\n",
    "    ax.yaxis.set_major_formatter(mtick.PercentFormatter())  \n",
    "    for index, value in enumerate(y):\n",
    "        ax.text(x[index], value+4, str(value)+\"%\")\n",
    "    \n",
    "    df_2 = ACT_2017_2018_2019_DIFF[ACT_2017_2018_2019_DIFF['State']==top_state][['Participation_Rate_ACT_2017','Participation_Rate_ACT_2018','Participation_Rate_ACT_2019']]\n",
    "    #x = list(df_2.columns)\n",
    "    y =df_2.values.tolist()[0]\n",
    "    y = [int(i*100)  for i in y ]\n",
    "    #print(y)\n",
    "\n",
    "    \n",
    "    ax.plot(x, y, color='grey', marker='o' ,linewidth=2, markersize=12)\n",
    "    ax.yaxis.set_major_formatter(mtick.PercentFormatter())\n",
    "    for index, value in enumerate(y):\n",
    "        ax.text(x[index], value+4, str(value)+\"%\")\n",
    "    ax.title.set_text(top_state)\n",
    "    ax.set_ylabel('Participation Rate')\n",
    "    plt.savefig(f'{top_state}_cross_sat_act.png',dpi=600)\n",
    "plt.show()"
   ]
  },
  {
   "cell_type": "code",
   "execution_count": null,
   "metadata": {},
   "outputs": [],
   "source": []
  },
  {
   "cell_type": "markdown",
   "metadata": {},
   "source": [
    "## Conclusions and Recommendations"
   ]
  },
  {
   "attachments": {},
   "cell_type": "markdown",
   "metadata": {},
   "source": [
    "Key takeaways \n",
    "1. Top3 states which make a significant improvement in SAT Participation Rate during 2017-2019  are Colorado, Illinois, West Virginia \n",
    "2. These states change policy for using SAT as new standardized test for junior high schools\n",
    "3. ACT participation rate has significantly decreased after the states changed the policy"
   ]
  },
  {
   "cell_type": "markdown",
   "metadata": {},
   "source": [
    "Conclusion and Recommendations\n",
    "\n",
    "   States policy make a significant improvement in participation rate "
   ]
  },
  {
   "cell_type": "markdown",
   "metadata": {},
   "source": [
    "Don't forget to create your README!\n",
    "\n",
    "**To-Do:** *If you combine your problem statement, data dictionary, brief summary of your analysis, and conclusions/recommendations, you have an amazing README.md file that quickly aligns your audience to the contents of your project.* Don't forget to cite your data sources!"
   ]
  }
 ],
 "metadata": {
  "anaconda-cloud": {},
  "kernelspec": {
   "display_name": "Python 3",
   "language": "python",
   "name": "python3"
  },
  "language_info": {
   "codemirror_mode": {
    "name": "ipython",
    "version": 3
   },
   "file_extension": ".py",
   "mimetype": "text/x-python",
   "name": "python",
   "nbconvert_exporter": "python",
   "pygments_lexer": "ipython3",
   "version": "3.8.5"
  }
 },
 "nbformat": 4,
 "nbformat_minor": 4
}
